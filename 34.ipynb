{
 "cells": [
  {
   "cell_type": "code",
   "execution_count": null,
   "id": "c1d52b6c-de55-4c9d-ad14-f4af35c36782",
   "metadata": {},
   "outputs": [],
   "source": [
    "#Replace the array elements with their square values if element is an even number keep the odd number as such\n",
    "import numpy as np\n",
    "\n",
    "array = np.arange(12).reshape(3, 4)\n",
    "\n",
    "result = np.where(array % 2 == 0, array ** 2, array)\n",
    "\n",
    "print(\"assumed array:\")\n",
    "print(arr)\n",
    "\n",
    "print(\"\\n Changed Array:\")\n",
    "print(result)"
   ]
  }
 ],
 "metadata": {
  "kernelspec": {
   "display_name": "Python [conda env:base] *",
   "language": "python",
   "name": "conda-base-py"
  },
  "language_info": {
   "codemirror_mode": {
    "name": "ipython",
    "version": 3
   },
   "file_extension": ".py",
   "mimetype": "text/x-python",
   "name": "python",
   "nbconvert_exporter": "python",
   "pygments_lexer": "ipython3",
   "version": "3.12.7"
  }
 },
 "nbformat": 4,
 "nbformat_minor": 5
}
