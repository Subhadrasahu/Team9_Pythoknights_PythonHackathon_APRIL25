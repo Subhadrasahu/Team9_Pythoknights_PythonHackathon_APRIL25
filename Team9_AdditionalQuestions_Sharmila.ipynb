{
 "cells": [
  {
   "cell_type": "code",
   "execution_count": 25,
   "id": "2e5db866-8648-466f-b967-aa4b470c1f07",
   "metadata": {},
   "outputs": [
    {
     "data": {
      "application/vnd.plotly.v1+json": {
       "config": {
        "plotlyServerURL": "https://plot.ly"
       },
       "data": [
        {
         "domain": {
          "x": [
           0,
           0.45
          ],
          "y": [
           0,
           1
          ]
         },
         "gauge": {
          "axis": {
           "range": [
            0,
            992
           ]
          }
         },
         "mode": "gauge+number",
         "title": {
          "text": "Females"
         },
         "type": "indicator",
         "value": 149
        },
        {
         "domain": {
          "x": [
           0.55,
           1
          ],
          "y": [
           0,
           1
          ]
         },
         "gauge": {
          "axis": {
           "range": [
            0,
            992
           ]
          }
         },
         "mode": "gauge+number",
         "title": {
          "text": "Males"
         },
         "type": "indicator",
         "value": 843
        }
       ],
       "layout": {
        "autosize": true,
        "template": {
         "data": {
          "bar": [
           {
            "error_x": {
             "color": "#2a3f5f"
            },
            "error_y": {
             "color": "#2a3f5f"
            },
            "marker": {
             "line": {
              "color": "#E5ECF6",
              "width": 0.5
             },
             "pattern": {
              "fillmode": "overlay",
              "size": 10,
              "solidity": 0.2
             }
            },
            "type": "bar"
           }
          ],
          "barpolar": [
           {
            "marker": {
             "line": {
              "color": "#E5ECF6",
              "width": 0.5
             },
             "pattern": {
              "fillmode": "overlay",
              "size": 10,
              "solidity": 0.2
             }
            },
            "type": "barpolar"
           }
          ],
          "carpet": [
           {
            "aaxis": {
             "endlinecolor": "#2a3f5f",
             "gridcolor": "white",
             "linecolor": "white",
             "minorgridcolor": "white",
             "startlinecolor": "#2a3f5f"
            },
            "baxis": {
             "endlinecolor": "#2a3f5f",
             "gridcolor": "white",
             "linecolor": "white",
             "minorgridcolor": "white",
             "startlinecolor": "#2a3f5f"
            },
            "type": "carpet"
           }
          ],
          "choropleth": [
           {
            "colorbar": {
             "outlinewidth": 0,
             "ticks": ""
            },
            "type": "choropleth"
           }
          ],
          "contour": [
           {
            "colorbar": {
             "outlinewidth": 0,
             "ticks": ""
            },
            "colorscale": [
             [
              0,
              "#0d0887"
             ],
             [
              0.1111111111111111,
              "#46039f"
             ],
             [
              0.2222222222222222,
              "#7201a8"
             ],
             [
              0.3333333333333333,
              "#9c179e"
             ],
             [
              0.4444444444444444,
              "#bd3786"
             ],
             [
              0.5555555555555556,
              "#d8576b"
             ],
             [
              0.6666666666666666,
              "#ed7953"
             ],
             [
              0.7777777777777778,
              "#fb9f3a"
             ],
             [
              0.8888888888888888,
              "#fdca26"
             ],
             [
              1,
              "#f0f921"
             ]
            ],
            "type": "contour"
           }
          ],
          "contourcarpet": [
           {
            "colorbar": {
             "outlinewidth": 0,
             "ticks": ""
            },
            "type": "contourcarpet"
           }
          ],
          "heatmap": [
           {
            "colorbar": {
             "outlinewidth": 0,
             "ticks": ""
            },
            "colorscale": [
             [
              0,
              "#0d0887"
             ],
             [
              0.1111111111111111,
              "#46039f"
             ],
             [
              0.2222222222222222,
              "#7201a8"
             ],
             [
              0.3333333333333333,
              "#9c179e"
             ],
             [
              0.4444444444444444,
              "#bd3786"
             ],
             [
              0.5555555555555556,
              "#d8576b"
             ],
             [
              0.6666666666666666,
              "#ed7953"
             ],
             [
              0.7777777777777778,
              "#fb9f3a"
             ],
             [
              0.8888888888888888,
              "#fdca26"
             ],
             [
              1,
              "#f0f921"
             ]
            ],
            "type": "heatmap"
           }
          ],
          "heatmapgl": [
           {
            "colorbar": {
             "outlinewidth": 0,
             "ticks": ""
            },
            "colorscale": [
             [
              0,
              "#0d0887"
             ],
             [
              0.1111111111111111,
              "#46039f"
             ],
             [
              0.2222222222222222,
              "#7201a8"
             ],
             [
              0.3333333333333333,
              "#9c179e"
             ],
             [
              0.4444444444444444,
              "#bd3786"
             ],
             [
              0.5555555555555556,
              "#d8576b"
             ],
             [
              0.6666666666666666,
              "#ed7953"
             ],
             [
              0.7777777777777778,
              "#fb9f3a"
             ],
             [
              0.8888888888888888,
              "#fdca26"
             ],
             [
              1,
              "#f0f921"
             ]
            ],
            "type": "heatmapgl"
           }
          ],
          "histogram": [
           {
            "marker": {
             "pattern": {
              "fillmode": "overlay",
              "size": 10,
              "solidity": 0.2
             }
            },
            "type": "histogram"
           }
          ],
          "histogram2d": [
           {
            "colorbar": {
             "outlinewidth": 0,
             "ticks": ""
            },
            "colorscale": [
             [
              0,
              "#0d0887"
             ],
             [
              0.1111111111111111,
              "#46039f"
             ],
             [
              0.2222222222222222,
              "#7201a8"
             ],
             [
              0.3333333333333333,
              "#9c179e"
             ],
             [
              0.4444444444444444,
              "#bd3786"
             ],
             [
              0.5555555555555556,
              "#d8576b"
             ],
             [
              0.6666666666666666,
              "#ed7953"
             ],
             [
              0.7777777777777778,
              "#fb9f3a"
             ],
             [
              0.8888888888888888,
              "#fdca26"
             ],
             [
              1,
              "#f0f921"
             ]
            ],
            "type": "histogram2d"
           }
          ],
          "histogram2dcontour": [
           {
            "colorbar": {
             "outlinewidth": 0,
             "ticks": ""
            },
            "colorscale": [
             [
              0,
              "#0d0887"
             ],
             [
              0.1111111111111111,
              "#46039f"
             ],
             [
              0.2222222222222222,
              "#7201a8"
             ],
             [
              0.3333333333333333,
              "#9c179e"
             ],
             [
              0.4444444444444444,
              "#bd3786"
             ],
             [
              0.5555555555555556,
              "#d8576b"
             ],
             [
              0.6666666666666666,
              "#ed7953"
             ],
             [
              0.7777777777777778,
              "#fb9f3a"
             ],
             [
              0.8888888888888888,
              "#fdca26"
             ],
             [
              1,
              "#f0f921"
             ]
            ],
            "type": "histogram2dcontour"
           }
          ],
          "mesh3d": [
           {
            "colorbar": {
             "outlinewidth": 0,
             "ticks": ""
            },
            "type": "mesh3d"
           }
          ],
          "parcoords": [
           {
            "line": {
             "colorbar": {
              "outlinewidth": 0,
              "ticks": ""
             }
            },
            "type": "parcoords"
           }
          ],
          "pie": [
           {
            "automargin": true,
            "type": "pie"
           }
          ],
          "scatter": [
           {
            "fillpattern": {
             "fillmode": "overlay",
             "size": 10,
             "solidity": 0.2
            },
            "type": "scatter"
           }
          ],
          "scatter3d": [
           {
            "line": {
             "colorbar": {
              "outlinewidth": 0,
              "ticks": ""
             }
            },
            "marker": {
             "colorbar": {
              "outlinewidth": 0,
              "ticks": ""
             }
            },
            "type": "scatter3d"
           }
          ],
          "scattercarpet": [
           {
            "marker": {
             "colorbar": {
              "outlinewidth": 0,
              "ticks": ""
             }
            },
            "type": "scattercarpet"
           }
          ],
          "scattergeo": [
           {
            "marker": {
             "colorbar": {
              "outlinewidth": 0,
              "ticks": ""
             }
            },
            "type": "scattergeo"
           }
          ],
          "scattergl": [
           {
            "marker": {
             "colorbar": {
              "outlinewidth": 0,
              "ticks": ""
             }
            },
            "type": "scattergl"
           }
          ],
          "scattermapbox": [
           {
            "marker": {
             "colorbar": {
              "outlinewidth": 0,
              "ticks": ""
             }
            },
            "type": "scattermapbox"
           }
          ],
          "scatterpolar": [
           {
            "marker": {
             "colorbar": {
              "outlinewidth": 0,
              "ticks": ""
             }
            },
            "type": "scatterpolar"
           }
          ],
          "scatterpolargl": [
           {
            "marker": {
             "colorbar": {
              "outlinewidth": 0,
              "ticks": ""
             }
            },
            "type": "scatterpolargl"
           }
          ],
          "scatterternary": [
           {
            "marker": {
             "colorbar": {
              "outlinewidth": 0,
              "ticks": ""
             }
            },
            "type": "scatterternary"
           }
          ],
          "surface": [
           {
            "colorbar": {
             "outlinewidth": 0,
             "ticks": ""
            },
            "colorscale": [
             [
              0,
              "#0d0887"
             ],
             [
              0.1111111111111111,
              "#46039f"
             ],
             [
              0.2222222222222222,
              "#7201a8"
             ],
             [
              0.3333333333333333,
              "#9c179e"
             ],
             [
              0.4444444444444444,
              "#bd3786"
             ],
             [
              0.5555555555555556,
              "#d8576b"
             ],
             [
              0.6666666666666666,
              "#ed7953"
             ],
             [
              0.7777777777777778,
              "#fb9f3a"
             ],
             [
              0.8888888888888888,
              "#fdca26"
             ],
             [
              1,
              "#f0f921"
             ]
            ],
            "type": "surface"
           }
          ],
          "table": [
           {
            "cells": {
             "fill": {
              "color": "#EBF0F8"
             },
             "line": {
              "color": "white"
             }
            },
            "header": {
             "fill": {
              "color": "#C8D4E3"
             },
             "line": {
              "color": "white"
             }
            },
            "type": "table"
           }
          ]
         },
         "layout": {
          "annotationdefaults": {
           "arrowcolor": "#2a3f5f",
           "arrowhead": 0,
           "arrowwidth": 1
          },
          "autotypenumbers": "strict",
          "coloraxis": {
           "colorbar": {
            "outlinewidth": 0,
            "ticks": ""
           }
          },
          "colorscale": {
           "diverging": [
            [
             0,
             "#8e0152"
            ],
            [
             0.1,
             "#c51b7d"
            ],
            [
             0.2,
             "#de77ae"
            ],
            [
             0.3,
             "#f1b6da"
            ],
            [
             0.4,
             "#fde0ef"
            ],
            [
             0.5,
             "#f7f7f7"
            ],
            [
             0.6,
             "#e6f5d0"
            ],
            [
             0.7,
             "#b8e186"
            ],
            [
             0.8,
             "#7fbc41"
            ],
            [
             0.9,
             "#4d9221"
            ],
            [
             1,
             "#276419"
            ]
           ],
           "sequential": [
            [
             0,
             "#0d0887"
            ],
            [
             0.1111111111111111,
             "#46039f"
            ],
            [
             0.2222222222222222,
             "#7201a8"
            ],
            [
             0.3333333333333333,
             "#9c179e"
            ],
            [
             0.4444444444444444,
             "#bd3786"
            ],
            [
             0.5555555555555556,
             "#d8576b"
            ],
            [
             0.6666666666666666,
             "#ed7953"
            ],
            [
             0.7777777777777778,
             "#fb9f3a"
            ],
            [
             0.8888888888888888,
             "#fdca26"
            ],
            [
             1,
             "#f0f921"
            ]
           ],
           "sequentialminus": [
            [
             0,
             "#0d0887"
            ],
            [
             0.1111111111111111,
             "#46039f"
            ],
            [
             0.2222222222222222,
             "#7201a8"
            ],
            [
             0.3333333333333333,
             "#9c179e"
            ],
            [
             0.4444444444444444,
             "#bd3786"
            ],
            [
             0.5555555555555556,
             "#d8576b"
            ],
            [
             0.6666666666666666,
             "#ed7953"
            ],
            [
             0.7777777777777778,
             "#fb9f3a"
            ],
            [
             0.8888888888888888,
             "#fdca26"
            ],
            [
             1,
             "#f0f921"
            ]
           ]
          },
          "colorway": [
           "#636efa",
           "#EF553B",
           "#00cc96",
           "#ab63fa",
           "#FFA15A",
           "#19d3f3",
           "#FF6692",
           "#B6E880",
           "#FF97FF",
           "#FECB52"
          ],
          "font": {
           "color": "#2a3f5f"
          },
          "geo": {
           "bgcolor": "white",
           "lakecolor": "white",
           "landcolor": "#E5ECF6",
           "showlakes": true,
           "showland": true,
           "subunitcolor": "white"
          },
          "hoverlabel": {
           "align": "left"
          },
          "hovermode": "closest",
          "mapbox": {
           "style": "light"
          },
          "paper_bgcolor": "white",
          "plot_bgcolor": "#E5ECF6",
          "polar": {
           "angularaxis": {
            "gridcolor": "white",
            "linecolor": "white",
            "ticks": ""
           },
           "bgcolor": "#E5ECF6",
           "radialaxis": {
            "gridcolor": "white",
            "linecolor": "white",
            "ticks": ""
           }
          },
          "scene": {
           "xaxis": {
            "backgroundcolor": "#E5ECF6",
            "gridcolor": "white",
            "gridwidth": 2,
            "linecolor": "white",
            "showbackground": true,
            "ticks": "",
            "zerolinecolor": "white"
           },
           "yaxis": {
            "backgroundcolor": "#E5ECF6",
            "gridcolor": "white",
            "gridwidth": 2,
            "linecolor": "white",
            "showbackground": true,
            "ticks": "",
            "zerolinecolor": "white"
           },
           "zaxis": {
            "backgroundcolor": "#E5ECF6",
            "gridcolor": "white",
            "gridwidth": 2,
            "linecolor": "white",
            "showbackground": true,
            "ticks": "",
            "zerolinecolor": "white"
           }
          },
          "shapedefaults": {
           "line": {
            "color": "#2a3f5f"
           }
          },
          "ternary": {
           "aaxis": {
            "gridcolor": "white",
            "linecolor": "white",
            "ticks": ""
           },
           "baxis": {
            "gridcolor": "white",
            "linecolor": "white",
            "ticks": ""
           },
           "bgcolor": "#E5ECF6",
           "caxis": {
            "gridcolor": "white",
            "linecolor": "white",
            "ticks": ""
           }
          },
          "title": {
           "x": 0.05
          },
          "xaxis": {
           "automargin": true,
           "gridcolor": "white",
           "linecolor": "white",
           "ticks": "",
           "title": {
            "standoff": 15
           },
           "zerolinecolor": "white",
           "zerolinewidth": 2
          },
          "yaxis": {
           "automargin": true,
           "gridcolor": "white",
           "linecolor": "white",
           "ticks": "",
           "title": {
            "standoff": 15
           },
           "zerolinecolor": "white",
           "zerolinewidth": 2
          }
         }
        },
        "title": {
         "text": "Gender Distribution (Male vs Female)",
         "x": 0.5
        }
       }
      },
      "image/png": "[encoded data removed]",
      "text/html": [
       "<div>                            <div id=\"83cd5284-f08a-47b1-af2c-7e05f5843a4c\" class=\"plotly-graph-div\" style=\"height:525px; width:100%;\"></div>            <script type=\"text/javascript\">                require([\"plotly\"], function(Plotly) {                    window.PLOTLYENV=window.PLOTLYENV || {};                                    if (document.getElementById(\"83cd5284-f08a-47b1-af2c-7e05f5843a4c\")) {                    Plotly.newPlot(                        \"83cd5284-f08a-47b1-af2c-7e05f5843a4c\",                        [{\"gauge\":{\"axis\":{\"range\":[0,992]}},\"mode\":\"gauge+number\",\"title\":{\"text\":\"Females\"},\"value\":149,\"type\":\"indicator\",\"domain\":{\"x\":[0.0,0.45],\"y\":[0.0,1.0]}},{\"gauge\":{\"axis\":{\"range\":[0,992]}},\"mode\":\"gauge+number\",\"title\":{\"text\":\"Males\"},\"value\":843,\"type\":\"indicator\",\"domain\":{\"x\":[0.55,1.0],\"y\":[0.0,1.0]}}],                        {\"template\":{\"data\":{\"histogram2dcontour\":[{\"type\":\"histogram2dcontour\",\"colorbar\":{\"outlinewidth\":0,\"ticks\":\"\"},\"colorscale\":[[0.0,\"#0d0887\"],[0.1111111111111111,\"#46039f\"],[0.2222222222222222,\"#7201a8\"],[0.3333333333333333,\"#9c179e\"],[0.4444444444444444,\"#bd3786\"],[0.5555555555555556,\"#d8576b\"],[0.6666666666666666,\"#ed7953\"],[0.7777777777777778,\"#fb9f3a\"],[0.8888888888888888,\"#fdca26\"],[1.0,\"#f0f921\"]]}],\"choropleth\":[{\"type\":\"choropleth\",\"colorbar\":{\"outlinewidth\":0,\"ticks\":\"\"}}],\"histogram2d\":[{\"type\":\"histogram2d\",\"colorbar\":{\"outlinewidth\":0,\"ticks\":\"\"},\"colorscale\":[[0.0,\"#0d0887\"],[0.1111111111111111,\"#46039f\"],[0.2222222222222222,\"#7201a8\"],[0.3333333333333333,\"#9c179e\"],[0.4444444444444444,\"#bd3786\"],[0.5555555555555556,\"#d8576b\"],[0.6666666666666666,\"#ed7953\"],[0.7777777777777778,\"#fb9f3a\"],[0.8888888888888888,\"#fdca26\"],[1.0,\"#f0f921\"]]}],\"heatmap\":[{\"type\":\"heatmap\",\"colorbar\":{\"outlinewidth\":0,\"ticks\":\"\"},\"colorscale\":[[0.0,\"#0d0887\"],[0.1111111111111111,\"#46039f\"],[0.2222222222222222,\"#7201a8\"],[0.3333333333333333,\"#9c179e\"],[0.4444444444444444,\"#bd3786\"],[0.5555555555555556,\"#d8576b\"],[0.6666666666666666,\"#ed7953\"],[0.7777777777777778,\"#fb9f3a\"],[0.8888888888888888,\"#fdca26\"],[1.0,\"#f0f921\"]]}],\"heatmapgl\":[{\"type\":\"heatmapgl\",\"colorbar\":{\"outlinewidth\":0,\"ticks\":\"\"},\"colorscale\":[[0.0,\"#0d0887\"],[0.1111111111111111,\"#46039f\"],[0.2222222222222222,\"#7201a8\"],[0.3333333333333333,\"#9c179e\"],[0.4444444444444444,\"#bd3786\"],[0.5555555555555556,\"#d8576b\"],[0.6666666666666666,\"#ed7953\"],[0.7777777777777778,\"#fb9f3a\"],[0.8888888888888888,\"#fdca26\"],[1.0,\"#f0f921\"]]}],\"contourcarpet\":[{\"type\":\"contourcarpet\",\"colorbar\":{\"outlinewidth\":0,\"ticks\":\"\"}}],\"contour\":[{\"type\":\"contour\",\"colorbar\":{\"outlinewidth\":0,\"ticks\":\"\"},\"colorscale\":[[0.0,\"#0d0887\"],[0.1111111111111111,\"#46039f\"],[0.2222222222222222,\"#7201a8\"],[0.3333333333333333,\"#9c179e\"],[0.4444444444444444,\"#bd3786\"],[0.5555555555555556,\"#d8576b\"],[0.6666666666666666,\"#ed7953\"],[0.7777777777777778,\"#fb9f3a\"],[0.8888888888888888,\"#fdca26\"],[1.0,\"#f0f921\"]]}],\"surface\":[{\"type\":\"surface\",\"colorbar\":{\"outlinewidth\":0,\"ticks\":\"\"},\"colorscale\":[[0.0,\"#0d0887\"],[0.1111111111111111,\"#46039f\"],[0.2222222222222222,\"#7201a8\"],[0.3333333333333333,\"#9c179e\"],[0.4444444444444444,\"#bd3786\"],[0.5555555555555556,\"#d8576b\"],[0.6666666666666666,\"#ed7953\"],[0.7777777777777778,\"#fb9f3a\"],[0.8888888888888888,\"#fdca26\"],[1.0,\"#f0f921\"]]}],\"mesh3d\":[{\"type\":\"mesh3d\",\"colorbar\":{\"outlinewidth\":0,\"ticks\":\"\"}}],\"scatter\":[{\"fillpattern\":{\"fillmode\":\"overlay\",\"size\":10,\"solidity\":0.2},\"type\":\"scatter\"}],\"parcoords\":[{\"type\":\"parcoords\",\"line\":{\"colorbar\":{\"outlinewidth\":0,\"ticks\":\"\"}}}],\"scatterpolargl\":[{\"type\":\"scatterpolargl\",\"marker\":{\"colorbar\":{\"outlinewidth\":0,\"ticks\":\"\"}}}],\"bar\":[{\"error_x\":{\"color\":\"#2a3f5f\"},\"error_y\":{\"color\":\"#2a3f5f\"},\"marker\":{\"line\":{\"color\":\"#E5ECF6\",\"width\":0.5},\"pattern\":{\"fillmode\":\"overlay\",\"size\":10,\"solidity\":0.2}},\"type\":\"bar\"}],\"scattergeo\":[{\"type\":\"scattergeo\",\"marker\":{\"colorbar\":{\"outlinewidth\":0,\"ticks\":\"\"}}}],\"scatterpolar\":[{\"type\":\"scatterpolar\",\"marker\":{\"colorbar\":{\"outlinewidth\":0,\"ticks\":\"\"}}}],\"histogram\":[{\"marker\":{\"pattern\":{\"fillmode\":\"overlay\",\"size\":10,\"solidity\":0.2}},\"type\":\"histogram\"}],\"scattergl\":[{\"type\":\"scattergl\",\"marker\":{\"colorbar\":{\"outlinewidth\":0,\"ticks\":\"\"}}}],\"scatter3d\":[{\"type\":\"scatter3d\",\"line\":{\"colorbar\":{\"outlinewidth\":0,\"ticks\":\"\"}},\"marker\":{\"colorbar\":{\"outlinewidth\":0,\"ticks\":\"\"}}}],\"scattermapbox\":[{\"type\":\"scattermapbox\",\"marker\":{\"colorbar\":{\"outlinewidth\":0,\"ticks\":\"\"}}}],\"scatterternary\":[{\"type\":\"scatterternary\",\"marker\":{\"colorbar\":{\"outlinewidth\":0,\"ticks\":\"\"}}}],\"scattercarpet\":[{\"type\":\"scattercarpet\",\"marker\":{\"colorbar\":{\"outlinewidth\":0,\"ticks\":\"\"}}}],\"carpet\":[{\"aaxis\":{\"endlinecolor\":\"#2a3f5f\",\"gridcolor\":\"white\",\"linecolor\":\"white\",\"minorgridcolor\":\"white\",\"startlinecolor\":\"#2a3f5f\"},\"baxis\":{\"endlinecolor\":\"#2a3f5f\",\"gridcolor\":\"white\",\"linecolor\":\"white\",\"minorgridcolor\":\"white\",\"startlinecolor\":\"#2a3f5f\"},\"type\":\"carpet\"}],\"table\":[{\"cells\":{\"fill\":{\"color\":\"#EBF0F8\"},\"line\":{\"color\":\"white\"}},\"header\":{\"fill\":{\"color\":\"#C8D4E3\"},\"line\":{\"color\":\"white\"}},\"type\":\"table\"}],\"barpolar\":[{\"marker\":{\"line\":{\"color\":\"#E5ECF6\",\"width\":0.5},\"pattern\":{\"fillmode\":\"overlay\",\"size\":10,\"solidity\":0.2}},\"type\":\"barpolar\"}],\"pie\":[{\"automargin\":true,\"type\":\"pie\"}]},\"layout\":{\"autotypenumbers\":\"strict\",\"colorway\":[\"#636efa\",\"#EF553B\",\"#00cc96\",\"#ab63fa\",\"#FFA15A\",\"#19d3f3\",\"#FF6692\",\"#B6E880\",\"#FF97FF\",\"#FECB52\"],\"font\":{\"color\":\"#2a3f5f\"},\"hovermode\":\"closest\",\"hoverlabel\":{\"align\":\"left\"},\"paper_bgcolor\":\"white\",\"plot_bgcolor\":\"#E5ECF6\",\"polar\":{\"bgcolor\":\"#E5ECF6\",\"angularaxis\":{\"gridcolor\":\"white\",\"linecolor\":\"white\",\"ticks\":\"\"},\"radialaxis\":{\"gridcolor\":\"white\",\"linecolor\":\"white\",\"ticks\":\"\"}},\"ternary\":{\"bgcolor\":\"#E5ECF6\",\"aaxis\":{\"gridcolor\":\"white\",\"linecolor\":\"white\",\"ticks\":\"\"},\"baxis\":{\"gridcolor\":\"white\",\"linecolor\":\"white\",\"ticks\":\"\"},\"caxis\":{\"gridcolor\":\"white\",\"linecolor\":\"white\",\"ticks\":\"\"}},\"coloraxis\":{\"colorbar\":{\"outlinewidth\":0,\"ticks\":\"\"}},\"colorscale\":{\"sequential\":[[0.0,\"#0d0887\"],[0.1111111111111111,\"#46039f\"],[0.2222222222222222,\"#7201a8\"],[0.3333333333333333,\"#9c179e\"],[0.4444444444444444,\"#bd3786\"],[0.5555555555555556,\"#d8576b\"],[0.6666666666666666,\"#ed7953\"],[0.7777777777777778,\"#fb9f3a\"],[0.8888888888888888,\"#fdca26\"],[1.0,\"#f0f921\"]],\"sequentialminus\":[[0.0,\"#0d0887\"],[0.1111111111111111,\"#46039f\"],[0.2222222222222222,\"#7201a8\"],[0.3333333333333333,\"#9c179e\"],[0.4444444444444444,\"#bd3786\"],[0.5555555555555556,\"#d8576b\"],[0.6666666666666666,\"#ed7953\"],[0.7777777777777778,\"#fb9f3a\"],[0.8888888888888888,\"#fdca26\"],[1.0,\"#f0f921\"]],\"diverging\":[[0,\"#8e0152\"],[0.1,\"#c51b7d\"],[0.2,\"#de77ae\"],[0.3,\"#f1b6da\"],[0.4,\"#fde0ef\"],[0.5,\"#f7f7f7\"],[0.6,\"#e6f5d0\"],[0.7,\"#b8e186\"],[0.8,\"#7fbc41\"],[0.9,\"#4d9221\"],[1,\"#276419\"]]},\"xaxis\":{\"gridcolor\":\"white\",\"linecolor\":\"white\",\"ticks\":\"\",\"title\":{\"standoff\":15},\"zerolinecolor\":\"white\",\"automargin\":true,\"zerolinewidth\":2},\"yaxis\":{\"gridcolor\":\"white\",\"linecolor\":\"white\",\"ticks\":\"\",\"title\":{\"standoff\":15},\"zerolinecolor\":\"white\",\"automargin\":true,\"zerolinewidth\":2},\"scene\":{\"xaxis\":{\"backgroundcolor\":\"#E5ECF6\",\"gridcolor\":\"white\",\"linecolor\":\"white\",\"showbackground\":true,\"ticks\":\"\",\"zerolinecolor\":\"white\",\"gridwidth\":2},\"yaxis\":{\"backgroundcolor\":\"#E5ECF6\",\"gridcolor\":\"white\",\"linecolor\":\"white\",\"showbackground\":true,\"ticks\":\"\",\"zerolinecolor\":\"white\",\"gridwidth\":2},\"zaxis\":{\"backgroundcolor\":\"#E5ECF6\",\"gridcolor\":\"white\",\"linecolor\":\"white\",\"showbackground\":true,\"ticks\":\"\",\"zerolinecolor\":\"white\",\"gridwidth\":2}},\"shapedefaults\":{\"line\":{\"color\":\"#2a3f5f\"}},\"annotationdefaults\":{\"arrowcolor\":\"#2a3f5f\",\"arrowhead\":0,\"arrowwidth\":1},\"geo\":{\"bgcolor\":\"white\",\"landcolor\":\"#E5ECF6\",\"subunitcolor\":\"white\",\"showland\":true,\"showlakes\":true,\"lakecolor\":\"white\"},\"title\":{\"x\":0.05},\"mapbox\":{\"style\":\"light\"}}},\"title\":{\"text\":\"Gender Distribution (Male vs Female)\",\"x\":0.5}},                        {\"responsive\": true}                    ).then(function(){\n",
       "                            \n",
       "var gd = document.getElementById('83cd5284-f08a-47b1-af2c-7e05f5843a4c');\n",
       "var x = new MutationObserver(function (mutations, observer) {{\n",
       "        var display = window.getComputedStyle(gd).display;\n",
       "        if (!display || display === 'none') {{\n",
       "            console.log([gd, 'removed!']);\n",
       "            Plotly.purge(gd);\n",
       "            observer.disconnect();\n",
       "        }}\n",
       "}});\n",
       "\n",
       "// Listen for the removal of the full notebook cells\n",
       "var notebookContainer = gd.closest('#notebook-container');\n",
       "if (notebookContainer) {{\n",
       "    x.observe(notebookContainer, {childList: true});\n",
       "}}\n",
       "\n",
       "// Listen for the clearing of the current output cell\n",
       "var outputEl = gd.closest('.output');\n",
       "if (outputEl) {{\n",
       "    x.observe(outputEl, {childList: true});\n",
       "}}\n",
       "\n",
       "                        })                };                });            </script>        </div>"
      ]
     },
     "metadata": {},
     "output_type": "display_data"
    }
   ],
   "source": [
    "#AQ 1. Generate Guage chart for Male and Female KPIs in the Trademill test data\n",
    "import pandas as pd\n",
    "import matplotlib.pyplot as plt\n",
    "import plotly.graph_objects as go\n",
    "from plotly.subplots import make_subplots\n",
    "\n",
    "# Load the datasets\n",
    "test_measure = pd.read_csv(\"test_measure.csv\")\n",
    "subject_info = pd.read_csv(\"subject-info.csv\")\n",
    "\n",
    "# Map numerical values to 'Male' and 'Female'\n",
    "subject_info['Sex'] = subject_info['Sex'].map({0: 'Male', 1: 'Female'})\n",
    "\n",
    "# Count the number of males and females\n",
    "gender_count = subject_info['Sex'].value_counts()\n",
    "\n",
    "# Create subplots with the domain type for Gauge charts\n",
    "fig = make_subplots(\n",
    "    rows=1, cols=2, \n",
    "    specs=[[{\"type\": \"indicator\"}, {\"type\": \"indicator\"}]],\n",
    "   )\n",
    "\n",
    "# Add Female Gauge\n",
    "fig.add_trace(\n",
    "    go.Indicator(\n",
    "        mode=\"gauge+number\",\n",
    "        value=gender_count['Female'],\n",
    "        title={'text': \"Females\"},\n",
    "        gauge={'axis': {'range': [0, gender_count.sum()]}}\n",
    "    ),\n",
    "    row=1, col=1\n",
    ")\n",
    "\n",
    "# Add Male Gauge\n",
    "fig.add_trace(\n",
    "    go.Indicator(\n",
    "        mode=\"gauge+number\",\n",
    "        value=gender_count['Male'],\n",
    "        title={'text': \"Males\"},\n",
    "        gauge={'axis': {'range': [0, gender_count.sum()]}}\n",
    "    ),\n",
    "    row=1, col=2\n",
    ")\n",
    "\n",
    "# Update layout for better visualization\n",
    "fig.update_layout(title_text=\"Gender Distribution (Male vs Female)\", title_x=0.5)\n",
    "\n",
    "# Display the chart\n",
    "fig.show()"
   ]
  },
  {
   "cell_type": "code",
   "execution_count": 27,
   "id": "593329a5-83ec-4dc0-ab3d-a43ee1708e58",
   "metadata": {},
   "outputs": [
    {
     "name": "stdout",
     "output_type": "stream",
     "text": [
      "Average VO2 max values by gender:\n",
      "Sex\n",
      "Female    2547.74\n",
      "Male      3736.22\n",
      "Name: VO2_max, dtype: float64\n"
     ]
    }
   ],
   "source": [
    "#AQ2. Calculate average VO2 max values between male and female athletes?\n",
    "\n",
    "import pandas as pd\n",
    "\n",
    "# Load the datasets\n",
    "test_measure = pd.read_csv(\"test_measure.csv\")\n",
    "subject_info = pd.read_csv(\"subject-info.csv\")\n",
    "\n",
    "# Map numerical values to 'Male' and 'Female'\n",
    "subject_info['Sex'] = subject_info['Sex'].map({0: 'Male', 1: 'Female'})\n",
    "\n",
    "# Step 1: Calculate VO2 max for each participant\n",
    "vo2_max_data = test_measure.groupby('ID_test')['VO2'].max().reset_index()\n",
    "vo2_max_data.rename(columns={'VO2': 'VO2_max'}, inplace=True)\n",
    "\n",
    "# Format the VO2_max column to 2 decimal places\n",
    "vo2_max_data['VO2_max'] = vo2_max_data['VO2_max'].round(2)\n",
    "\n",
    "# Step 2: Merge VO2 max data with subject-info\n",
    "merged_data = pd.merge(vo2_max_data, subject_info, on='ID_test')\n",
    "\n",
    "# Step 3: Group by gender and calculate the average VO2 max\n",
    "average_vo2_max = merged_data.groupby('Sex')['VO2_max'].mean()\n",
    "\n",
    "# Format average VO2 max to 2 decimal places\n",
    "average_vo2_max = average_vo2_max.round(2)\n",
    "\n",
    "# Display the results\n",
    "print(\"Average VO2 max values by gender:\")\n",
    "print(average_vo2_max)"
   ]
  },
  {
   "cell_type": "code",
   "execution_count": 29,
   "id": "314d8db2-61f0-412a-9d9a-9de7da372844",
   "metadata": {},
   "outputs": [
    {
     "name": "stdout",
     "output_type": "stream",
     "text": [
      "Average Height and Weight by Gender:\n",
      "\n",
      "\n",
      "        Height  Weight\n",
      "Sex                   \n",
      "Female  166.79   62.70\n",
      "Male    176.35   75.27\n"
     ]
    }
   ],
   "source": [
    "#AQ3: List Average Height and Weight of Athelets by Gender\n",
    "import pandas as pd\n",
    "# Load the datasets\n",
    "subject_info = pd.read_csv(\"subject-info.csv\")\n",
    "\n",
    "# Map numerical gender values (0 -> Male, 1 -> Female)\n",
    "subject_info['Sex'] = subject_info['Sex'].map({0: 'Male', 1: 'Female'})\n",
    "\n",
    "# Group data by gender and calculate the mean height and weight\n",
    "average_stats = subject_info.groupby('Sex')[['Height', 'Weight']].mean().round(2)\n",
    "\n",
    "# Print the results\n",
    "print(\"Average Height and Weight by Gender:\")\n",
    "print('\\n')\n",
    "print(average_stats)"
   ]
  },
  {
   "cell_type": "code",
   "execution_count": 31,
   "id": "cd5369c6-ede0-48cf-99d1-f5f5e54b9d2e",
   "metadata": {},
   "outputs": [
    {
     "data": {
      "image/png": "[encoded data removed]",
      "text/plain": [
       "<Figure size 640x480 with 1 Axes>"
      ]
     },
     "metadata": {},
     "output_type": "display_data"
    }
   ],
   "source": [
    "#AQ 4 . Analyze if there are differences in peak treadmill speeds achieved across genders and age brackets\n",
    "# Step 1: Calculate peak speed for each participant\n",
    "import pandas as pd\n",
    "import matplotlib.pyplot as plt\n",
    "\n",
    "# Load the datasets\n",
    "test_measure = pd.read_csv(\"test_measure.csv\")\n",
    "subject_info = pd.read_csv(\"subject-info.csv\")\n",
    "\n",
    "peak_speed_data = test_measure.groupby('ID_test')['Speed'].max().reset_index()\n",
    "peak_speed_data.rename(columns={'Speed': 'peak_speed'}, inplace=True)\n",
    "\n",
    "# Step 2: Merge peak speed data with subject demographic information\n",
    "merged_data = pd.merge(peak_speed_data, subject_info, on='ID_test')\n",
    "\n",
    "# Step 3: Map numerical gender values (0 -> Male, 1 -> Female)\n",
    "merged_data['Sex'] = merged_data['Sex'].map({0: 'Male', 1: 'Female'})\n",
    "\n",
    "# Step 4: Create age brackets\n",
    "bins = [18, 25, 35, 45, 55, 65, 75]  # Define age bins\n",
    "labels = ['18-25', '26-35', '36-45', '46-55', '56-65', '66-75']  # Age group labels\n",
    "merged_data['Age_Group'] = pd.cut(merged_data['Age'], bins=bins, labels=labels)\n",
    "\n",
    "# Step 5: Group by gender and age brackets, and calculate average peak speed\n",
    "peak_speed_analysis = merged_data.groupby(['Sex', 'Age_Group'], observed=False)['peak_speed'].mean().unstack('Sex')\n",
    "\n",
    "# Step 5: Group by gender and age brackets, calculate average peak speed, and count athletes\n",
    "peak_speed_analysis_Count = merged_data.groupby(['Sex', 'Age_Group'], observed=False).agg(\n",
    "    peak_speed=('peak_speed', 'mean'), count=('peak_speed', 'size')).unstack('Sex')\n",
    "\n",
    "# Separate mean speeds and counts\n",
    "#peak_speed_means = peak_speed_analysis['peak_speed']\n",
    "athlete_counts = peak_speed_analysis_Count['count']\n",
    "\n",
    "# Step 6: Plot the results\n",
    "# Define custom colors for male and female\n",
    "colors = {'Male': 'blue', 'Female': 'pink'}\n",
    "#peak_speed_analysis.plot(kind='bar', edgecolor='black', colormap='viridis')\n",
    "ax = peak_speed_analysis.plot(kind='bar', \n",
    "                         color=[colors['Male'], colors['Female']], \n",
    "                         edgecolor='black')\n",
    "\n",
    "# Add data labels (athlete counts) above bars\n",
    "for container, counts in zip(ax.containers, athlete_counts.T.values):\n",
    "    ax.bar_label(container, labels=[f'{int(c)}' for c in counts], label_type='edge')\n",
    "    \n",
    "plt.title(\"Average Peak Treadmill Speed by Gender and Age Groups\")\n",
    "plt.xlabel(\"Age Groups\")\n",
    "plt.ylabel(\"Peak Speed (units)\")\n",
    "plt.xticks(rotation=45)\n",
    "plt.legend(title=\"Gender\")\n",
    "plt.tight_layout()\n",
    "plt.grid(axis='y', linestyle='--', alpha=0.7)\n",
    "\n",
    "# Display the plot\n",
    "plt.show()"
   ]
  },
  {
   "cell_type": "code",
   "execution_count": 63,
   "id": "e9ccb9c3-ca5b-4c0e-bd2a-ee0005ac16b9",
   "metadata": {},
   "outputs": [
    {
     "name": "stdout",
     "output_type": "stream",
     "text": [
      "Performance Metrics by Temperature Range:\n",
      "                           VO2\n",
      "Temperature_Range             \n",
      "<20°C              2281.152266\n",
      "20-30°C            2316.517282\n",
      "30-40°C            2376.358459\n",
      "\n",
      "Performance Metrics by Humidity Range:\n",
      "                        VO2\n",
      "Humidity_Range             \n",
      "<30%            2119.032343\n",
      "30-60%          2310.812685\n",
      "60-90%          2326.724340\n"
     ]
    },
    {
     "data": {
      "image/png": "[encoded data removed]",
      "text/plain": [
       "<Figure size 640x480 with 1 Axes>"
      ]
     },
     "metadata": {},
     "output_type": "display_data"
    },
    {
     "data": {
      "image/png": "[encoded data removed]",
      "text/plain": [
       "<Figure size 640x480 with 1 Axes>"
      ]
     },
     "metadata": {},
     "output_type": "display_data"
    }
   ],
   "source": [
    "#AQ5. Performance metrics of VO2 across ranges of temperature and humidity\n",
    "import pandas as pd\n",
    "import seaborn as sns\n",
    "import matplotlib.pyplot as plt\n",
    "\n",
    "# Load the dataset\n",
    "# Replace these filenames with your actual filenames\n",
    "performance_data = pd.read_csv(\"test_measure.csv\")  # Contains VO2, RR, Peak Speed\n",
    "environment_data = pd.read_csv(\"subject-info.csv\")  # Contains Temperature, Humidity, ID_test\n",
    "\n",
    "# Merge the datasets on the common identifier 'ID_test'\n",
    "merged_data = pd.merge(performance_data, environment_data, on='ID_test')\n",
    "\n",
    "# Step 1: Create temperature and humidity ranges\n",
    "temp_bins = [0, 20, 30, 40]  # Define temperature bins\n",
    "temp_labels = ['<20°C', '20-30°C', '30-40°C']\n",
    "merged_data['Temperature_Range'] = pd.cut(merged_data['Temperature'], bins=temp_bins, labels=temp_labels)\n",
    "\n",
    "humidity_bins = [0, 30, 60, 90]  # Define humidity bins\n",
    "humidity_labels = ['<30%', '30-60%', '60-90%']\n",
    "merged_data['Humidity_Range'] = pd.cut(merged_data['Humidity'], bins=humidity_bins, labels=humidity_labels)\n",
    "\n",
    "# Step 2: Group by Temperature and Humidity ranges and calculate means\n",
    "grouped_temp = merged_data.groupby('Temperature_Range', observed=False)[['VO2']].mean()\n",
    "grouped_humidity = merged_data.groupby('Humidity_Range', observed=False)[['VO2']].mean()\n",
    "\n",
    "# Print the results\n",
    "print(\"Performance Metrics by Temperature Range:\")\n",
    "print(grouped_temp)\n",
    "print(\"\\nPerformance Metrics by Humidity Range:\")\n",
    "print(grouped_humidity)\n",
    "\n",
    "# Step 3: Visualization\n",
    "# Boxplot for Temperature vs VO2\n",
    "sns.boxplot(x='Temperature_Range', y='VO2', data=merged_data, hue='Temperature_Range', palette='coolwarm', legend=False)\n",
    "plt.title('VO2 Across Temperature Ranges')\n",
    "plt.xlabel('Temperature Range')\n",
    "plt.ylabel('VO2')\n",
    "plt.grid(axis='y', linestyle='--', alpha=0.7)\n",
    "plt.tight_layout()\n",
    "plt.show()\n",
    "\n",
    "# Boxplot for Humidity vs VO2\n",
    "sns.boxplot(x='Humidity_Range', y='VO2',  data=merged_data, hue='Humidity_Range', palette='Blues',legend=False)\n",
    "plt.title('VO2 Across Humidity Ranges')\n",
    "plt.xlabel('Humidity Range')\n",
    "plt.ylabel('VO2')\n",
    "plt.grid(axis='y', linestyle='--', alpha=0.7)\n",
    "plt.tight_layout()\n",
    "plt.show()\n"
   ]
  },
  {
   "cell_type": "code",
   "execution_count": 17,
   "id": "2ba8fc48-5693-42ed-b303-272f263c219d",
   "metadata": {},
   "outputs": [
    {
     "name": "stdout",
     "output_type": "stream",
     "text": [
      "Athlet who has taken maximum Test is : 431\n",
      "Age: 18.0\n",
      "Height: 171.0\n",
      "Weight: 63.0\n"
     ]
    }
   ],
   "source": [
    "#AQ6. Print the athelet who took maximum number of tests with his age, Height and Weight\n",
    "import pandas as pd\n",
    "\n",
    "# Load the CSV files\n",
    "test_measure = pd.read_csv(\"Test_measure.csv\")\n",
    "subject_info = pd.read_csv(\"subject-info.csv\")\n",
    "\n",
    "# Count the number of tests each subject has taken\n",
    "test_counts = test_measure['ID_test'].value_counts()\n",
    "\n",
    "# Find the subject ID with the maximum tests\n",
    "max_tests_subject = test_counts.idxmax()\n",
    "\n",
    "# Retrieve their details from the subject-info file\n",
    "subject_details = subject_info[subject_info['ID_test'] == max_tests_subject]\n",
    "\n",
    "# Print the subject's age, height, and weight line by line\n",
    "print(f\"Athlet who has taken maximum Test is : {subject_details['ID'].values[0]}\")\n",
    "print(f\"Age: {subject_details['Age'].values[0]}\")\n",
    "print(f\"Height: {subject_details['Height'].values[0]}\")\n",
    "print(f\"Weight: {subject_details['Weight'].values[0]}\")"
   ]
  },
  {
   "cell_type": "code",
   "execution_count": 45,
   "id": "de58dc28-31f9-4753-a055-cb79c6449cd3",
   "metadata": {},
   "outputs": [
    {
     "name": "stdout",
     "output_type": "stream",
     "text": [
      "Subject with lowest fitness: 820\n",
      "Age=16.8, Height=160.6 cm, Weight=67.0 kg, BMI=25.98\n"
     ]
    }
   ],
   "source": [
    "#AQ7.Find the subject with the lowest fitness \n",
    "import pandas as pd\n",
    "\n",
    "# Load the data\n",
    "test_data = pd.read_csv(\"Test_measure.csv\")\n",
    "subject_info = pd.read_csv(\"subject-info.csv\")\n",
    "\n",
    "# Calculate BMI for each subject\n",
    "subject_info['BMI'] = subject_info['Weight'] / ((subject_info['Height'] / 100) ** 2)\n",
    "\n",
    "# Merge test data with subject info to include HR, BMI, and Age\n",
    "merged_data = test_data.merge(subject_info, left_on='ID_test', right_on='ID_test')\n",
    "\n",
    "# Aggregate metrics by ID_test\n",
    "fitness_scores = merged_data[['ID_test', 'VO2', 'VCO2', 'RR', 'VE', 'HR', 'BMI', 'Age']].groupby('ID_test').mean()\n",
    "\n",
    "# Normalize all metrics (higher VO2 and lower others indicate better fitness)\n",
    "fitness_scores['Normalized_VO2'] = fitness_scores['VO2'] / fitness_scores['VO2'].max()\n",
    "fitness_scores['Normalized_VCO2'] = fitness_scores['VCO2'] / fitness_scores['VCO2'].max()\n",
    "fitness_scores['Normalized_RR'] = fitness_scores['RR'] / fitness_scores['RR'].max()\n",
    "fitness_scores['Normalized_VE'] = fitness_scores['VE'] / fitness_scores['VE'].max()\n",
    "fitness_scores['Normalized_HR'] = fitness_scores['HR'] / fitness_scores['HR'].max()\n",
    "fitness_scores['Normalized_BMI'] = fitness_scores['BMI'] / fitness_scores['BMI'].max()\n",
    "\n",
    "# Calculate fitness score (higher VO2 improves, higher others decrease fitness)\n",
    "fitness_scores['Fitness_Score'] = (\n",
    "    fitness_scores['Normalized_VO2'] -\n",
    "    (fitness_scores['Normalized_VCO2'] +\n",
    "     fitness_scores['Normalized_RR'] +\n",
    "     fitness_scores['Normalized_VE'] +\n",
    "     fitness_scores['Normalized_HR'] +\n",
    "     fitness_scores['Normalized_BMI']) / 5\n",
    ")\n",
    "# Identify the athlete with the lowest fitness score\n",
    "lowest_fitness_subject = fitness_scores['Fitness_Score'].idxmin()\n",
    "\n",
    "# Retrieve details of the subject with the lowest fitness\n",
    "subject_details = subject_info[subject_info['ID_test'] == lowest_fitness_subject]\n",
    "\n",
    "# Print the subject ID and other details horizontally\n",
    "print(f\"Subject with lowest fitness: {subject_details['ID'].values[0]}\")\n",
    "print(f\"Age={subject_details['Age'].values[0]}, Height={subject_details['Height'].values[0]} cm, \"\n",
    "      f\"Weight={subject_details['Weight'].values[0]} kg, BMI={subject_details['BMI'].values[0]:.2f}\")\n"
   ]
  },
  {
   "cell_type": "code",
   "execution_count": 65,
   "id": "2fb4a130-74ea-4593-a8a8-28a6a7bdb6a3",
   "metadata": {},
   "outputs": [
    {
     "name": "stdout",
     "output_type": "stream",
     "text": [
      "Mean Age of Female Athletes: 26.04\n",
      "Median Age of Female Athletes: 24.50\n",
      "Mode Age of Female Athletes:\n",
      "0    16.1\n",
      "1    16.6\n",
      "2    16.7\n",
      "3    16.8\n",
      "4    22.7\n",
      "5    23.1\n",
      "6    26.9\n",
      "Name: Age, dtype: float64\n"
     ]
    }
   ],
   "source": [
    "#AQ8. Mean, Median and Mode of Age\n",
    "import pandas as pd\n",
    "\n",
    "# Load the subject information CSV file\n",
    "subject_info = pd.read_csv(\"subject-info.csv\")\n",
    "\n",
    "# Filter data to include only female athletes\n",
    "female_athletes = subject_info[subject_info['Sex'] == 1]\n",
    "\n",
    "# Calculate mean, median, and mode of Age\n",
    "mean_age = female_athletes['Age'].mean()\n",
    "median_age = female_athletes['Age'].median()\n",
    "mode_age = female_athletes['Age'].mode() # mode() can return multiple values, take the first one\n",
    "\n",
    "# Print results\n",
    "print(f\"Mean Age of Female Athletes: {mean_age:.2f}\")\n",
    "print(f\"Median Age of Female Athletes: {median_age:.2f}\")\n",
    "print(f\"Mode Age of Female Athletes:\\n{mode_age}\")"
   ]
  },
  {
   "cell_type": "code",
   "execution_count": null,
   "id": "77b0333e-5a3b-42c7-b541-64dc95f8fc39",
   "metadata": {},
   "outputs": [],
   "source": []
  }
 ],
 "metadata": {
  "kernelspec": {
   "display_name": "Python [conda env:base] *",
   "language": "python",
   "name": "conda-base-py"
  },
  "language_info": {
   "codemirror_mode": {
    "name": "ipython",
    "version": 3
   },
   "file_extension": ".py",
   "mimetype": "text/x-python",
   "name": "python",
   "nbconvert_exporter": "python",
   "pygments_lexer": "ipython3",
   "version": "3.12.7"
  }
 },
 "nbformat": 4,
 "nbformat_minor": 5
}
