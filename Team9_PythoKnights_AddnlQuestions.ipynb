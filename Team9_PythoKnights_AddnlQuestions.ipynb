{
 "cells": [
  {
   "cell_type": "code",
   "execution_count": 1,
   "id": "41429a94-8236-48d7-99cb-5cff686ab0e8",
   "metadata": {},
   "outputs": [],
   "source": [
    "import pandas as pd\n",
    "import matplotlib.pyplot as plt \n",
    "from pywaffle import Waffle\n",
    "import plotly.express as px\n",
    "import numpy as np\n",
    "import seaborn as sns\n",
    "\n",
    "df1=pd.read_csv(\"subject-info.csv\")\n",
    "df2=pd.read_csv(\"test_measure.csv\")\n",
    "\n",
    "#removing duplicates\n",
    "df1=df1.sort_values(by='ID')\n",
    "df2=df2.sort_values(by=['ID','time'])\n",
    "df1.reset_index(drop=True, inplace=True)\n",
    "df2.reset_index(drop=True, inplace=True)\n",
    "df1=df1.drop_duplicates(keep='first')\n",
    "df2 = df2.drop_duplicates(keep='first')"
   ]
  },
  {
   "cell_type": "markdown",
   "id": "62e4d5f5-3466-4fd6-a065-d57ac56e6331",
   "metadata": {
    "jp-MarkdownHeadingCollapsed": true
   },
   "source": [
    "## AQ 1. Generate Guage chart for Male and Female KPIs in the Trademill test data"
   ]
  },
  {
   "cell_type": "code",
   "execution_count": 25,
   "id": "2e5db866-8648-466f-b967-aa4b470c1f07",
   "metadata": {},
   "outputs": [
    {
     "data": {
      "application/vnd.plotly.v1+json": {
       "config": {
        "plotlyServerURL": "https://plot.ly"
       },
       "data": [
        {
         "domain": {
          "x": [
           0,
           0.45
          ],
          "y": [
           0,
           1
          ]
         },
         "gauge": {
          "axis": {
           "range": [
            0,
            992
           ]
          }
         },
         "mode": "gauge+number",
         "title": {
          "text": "Females"
         },
         "type": "indicator",
         "value": 149
        },
        {
         "domain": {
          "x": [
           0.55,
           1
          ],
          "y": [
           0,
           1
          ]
         },
         "gauge": {
          "axis": {
           "range": [
            0,
            992
           ]
          }
         },
         "mode": "gauge+number",
         "title": {
          "text": "Males"
         },
         "type": "indicator",
         "value": 843
        }
       ],
       "layout": {
        "autosize": true,
        "template": {
         "data": {
          "bar": [
           {
            "error_x": {
             "color": "#2a3f5f"
            },
            "error_y": {
             "color": "#2a3f5f"
            },
            "marker": {
             "line": {
              "color": "#E5ECF6",
              "width": 0.5
             },
             "pattern": {
              "fillmode": "overlay",
              "size": 10,
              "solidity": 0.2
             }
            },
            "type": "bar"
           }
          ],
          "barpolar": [
           {
            "marker": {
             "line": {
              "color": "#E5ECF6",
              "width": 0.5
             },
             "pattern": {
              "fillmode": "overlay",
              "size": 10,
              "solidity": 0.2
             }
            },
            "type": "barpolar"
           }
          ],
          "carpet": [
           {
            "aaxis": {
             "endlinecolor": "#2a3f5f",
             "gridcolor": "white",
             "linecolor": "white",
             "minorgridcolor": "white",
             "startlinecolor": "#2a3f5f"
            },
            "baxis": {
             "endlinecolor": "#2a3f5f",
             "gridcolor": "white",
             "linecolor": "white",
             "minorgridcolor": "white",
             "startlinecolor": "#2a3f5f"
            },
            "type": "carpet"
           }
          ],
          "choropleth": [
           {
            "colorbar": {
             "outlinewidth": 0,
             "ticks": ""
            },
            "type": "choropleth"
           }
          ],
          "contour": [
           {
            "colorbar": {
             "outlinewidth": 0,
             "ticks": ""
            },
            "colorscale": [
             [
              0,
              "#0d0887"
             ],
             [
              0.1111111111111111,
              "#46039f"
             ],
             [
              0.2222222222222222,
              "#7201a8"
             ],
             [
              0.3333333333333333,
              "#9c179e"
             ],
             [
              0.4444444444444444,
              "#bd3786"
             ],
             [
              0.5555555555555556,
              "#d8576b"
             ],
             [
              0.6666666666666666,
              "#ed7953"
             ],
             [
              0.7777777777777778,
              "#fb9f3a"
             ],
             [
              0.8888888888888888,
              "#fdca26"
             ],
             [
              1,
              "#f0f921"
             ]
            ],
            "type": "contour"
           }
          ],
          "contourcarpet": [
           {
            "colorbar": {
             "outlinewidth": 0,
             "ticks": ""
            },
            "type": "contourcarpet"
           }
          ],
          "heatmap": [
           {
            "colorbar": {
             "outlinewidth": 0,
             "ticks": ""
            },
            "colorscale": [
             [
              0,
              "#0d0887"
             ],
             [
              0.1111111111111111,
              "#46039f"
             ],
             [
              0.2222222222222222,
              "#7201a8"
             ],
             [
              0.3333333333333333,
              "#9c179e"
             ],
             [
              0.4444444444444444,
              "#bd3786"
             ],
             [
              0.5555555555555556,
              "#d8576b"
             ],
             [
              0.6666666666666666,
              "#ed7953"
             ],
             [
              0.7777777777777778,
              "#fb9f3a"
             ],
             [
              0.8888888888888888,
              "#fdca26"
             ],
             [
              1,
              "#f0f921"
             ]
            ],
            "type": "heatmap"
           }
          ],
          "heatmapgl": [
           {
            "colorbar": {
             "outlinewidth": 0,
             "ticks": ""
            },
            "colorscale": [
             [
              0,
              "#0d0887"
             ],
             [
              0.1111111111111111,
              "#46039f"
             ],
             [
              0.2222222222222222,
              "#7201a8"
             ],
             [
              0.3333333333333333,
              "#9c179e"
             ],
             [
              0.4444444444444444,
              "#bd3786"
             ],
             [
              0.5555555555555556,
              "#d8576b"
             ],
             [
              0.6666666666666666,
              "#ed7953"
             ],
             [
              0.7777777777777778,
              "#fb9f3a"
             ],
             [
              0.8888888888888888,
              "#fdca26"
             ],
             [
              1,
              "#f0f921"
             ]
            ],
            "type": "heatmapgl"
           }
          ],
          "histogram": [
           {
            "marker": {
             "pattern": {
              "fillmode": "overlay",
              "size": 10,
              "solidity": 0.2
             }
            },
            "type": "histogram"
           }
          ],
          "histogram2d": [
           {
            "colorbar": {
             "outlinewidth": 0,
             "ticks": ""
            },
            "colorscale": [
             [
              0,
              "#0d0887"
             ],
             [
              0.1111111111111111,
              "#46039f"
             ],
             [
              0.2222222222222222,
              "#7201a8"
             ],
             [
              0.3333333333333333,
              "#9c179e"
             ],
             [
              0.4444444444444444,
              "#bd3786"
             ],
             [
              0.5555555555555556,
              "#d8576b"
             ],
             [
              0.6666666666666666,
              "#ed7953"
             ],
             [
              0.7777777777777778,
              "#fb9f3a"
             ],
             [
              0.8888888888888888,
              "#fdca26"
             ],
             [
              1,
              "#f0f921"
             ]
            ],
            "type": "histogram2d"
           }
          ],
          "histogram2dcontour": [
           {
            "colorbar": {
             "outlinewidth": 0,
             "ticks": ""
            },
            "colorscale": [
             [
              0,
              "#0d0887"
             ],
             [
              0.1111111111111111,
              "#46039f"
             ],
             [
              0.2222222222222222,
              "#7201a8"
             ],
             [
              0.3333333333333333,
              "#9c179e"
             ],
             [
              0.4444444444444444,
              "#bd3786"
             ],
             [
              0.5555555555555556,
              "#d8576b"
             ],
             [
              0.6666666666666666,
              "#ed7953"
             ],
             [
              0.7777777777777778,
              "#fb9f3a"
             ],
             [
              0.8888888888888888,
              "#fdca26"
             ],
             [
              1,
              "#f0f921"
             ]
            ],
            "type": "histogram2dcontour"
           }
          ],
          "mesh3d": [
           {
            "colorbar": {
             "outlinewidth": 0,
             "ticks": ""
            },
            "type": "mesh3d"
           }
          ],
          "parcoords": [
           {
            "line": {
             "colorbar": {
              "outlinewidth": 0,
              "ticks": ""
             }
            },
            "type": "parcoords"
           }
          ],
          "pie": [
           {
            "automargin": true,
            "type": "pie"
           }
          ],
          "scatter": [
           {
            "fillpattern": {
             "fillmode": "overlay",
             "size": 10,
             "solidity": 0.2
            },
            "type": "scatter"
           }
          ],
          "scatter3d": [
           {
            "line": {
             "colorbar": {
              "outlinewidth": 0,
              "ticks": ""
             }
            },
            "marker": {
             "colorbar": {
              "outlinewidth": 0,
              "ticks": ""
             }
            },
            "type": "scatter3d"
           }
          ],
          "scattercarpet": [
           {
            "marker": {
             "colorbar": {
              "outlinewidth": 0,
              "ticks": ""
             }
            },
            "type": "scattercarpet"
           }
          ],
          "scattergeo": [
           {
            "marker": {
             "colorbar": {
              "outlinewidth": 0,
              "ticks": ""
             }
            },
            "type": "scattergeo"
           }
          ],
          "scattergl": [
           {
            "marker": {
             "colorbar": {
              "outlinewidth": 0,
              "ticks": ""
             }
            },
            "type": "scattergl"
           }
          ],
          "scattermapbox": [
           {
            "marker": {
             "colorbar": {
              "outlinewidth": 0,
              "ticks": ""
             }
            },
            "type": "scattermapbox"
           }
          ],
          "scatterpolar": [
           {
            "marker": {
             "colorbar": {
              "outlinewidth": 0,
              "ticks": ""
             }
            },
            "type": "scatterpolar"
           }
          ],
          "scatterpolargl": [
           {
            "marker": {
             "colorbar": {
              "outlinewidth": 0,
              "ticks": ""
             }
            },
            "type": "scatterpolargl"
           }
          ],
          "scatterternary": [
           {
            "marker": {
             "colorbar": {
              "outlinewidth": 0,
              "ticks": ""
             }
            },
            "type": "scatterternary"
           }
          ],
          "surface": [
           {
            "colorbar": {
             "outlinewidth": 0,
             "ticks": ""
            },
            "colorscale": [
             [
              0,
              "#0d0887"
             ],
             [
              0.1111111111111111,
              "#46039f"
             ],
             [
              0.2222222222222222,
              "#7201a8"
             ],
             [
              0.3333333333333333,
              "#9c179e"
             ],
             [
              0.4444444444444444,
              "#bd3786"
             ],
             [
              0.5555555555555556,
              "#d8576b"
             ],
             [
              0.6666666666666666,
              "#ed7953"
             ],
             [
              0.7777777777777778,
              "#fb9f3a"
             ],
             [
              0.8888888888888888,
              "#fdca26"
             ],
             [
              1,
              "#f0f921"
             ]
            ],
            "type": "surface"
           }
          ],
          "table": [
           {
            "cells": {
             "fill": {
              "color": "#EBF0F8"
             },
             "line": {
              "color": "white"
             }
            },
            "header": {
             "fill": {
              "color": "#C8D4E3"
             },
             "line": {
              "color": "white"
             }
            },
            "type": "table"
           }
          ]
         },
         "layout": {
          "annotationdefaults": {
           "arrowcolor": "#2a3f5f",
           "arrowhead": 0,
           "arrowwidth": 1
          },
          "autotypenumbers": "strict",
          "coloraxis": {
           "colorbar": {
            "outlinewidth": 0,
            "ticks": ""
           }
          },
          "colorscale": {
           "diverging": [
            [
             0,
             "#8e0152"
            ],
            [
             0.1,
             "#c51b7d"
            ],
            [
             0.2,
             "#de77ae"
            ],
            [
             0.3,
             "#f1b6da"
            ],
            [
             0.4,
             "#fde0ef"
            ],
            [
             0.5,
             "#f7f7f7"
            ],
            [
             0.6,
             "#e6f5d0"
            ],
            [
             0.7,
             "#b8e186"
            ],
            [
             0.8,
             "#7fbc41"
            ],
            [
             0.9,
             "#4d9221"
            ],
            [
             1,
             "#276419"
            ]
           ],
           "sequential": [
            [
             0,
             "#0d0887"
            ],
            [
             0.1111111111111111,
             "#46039f"
            ],
            [
             0.2222222222222222,
             "#7201a8"
            ],
            [
             0.3333333333333333,
             "#9c179e"
            ],
            [
             0.4444444444444444,
             "#bd3786"
            ],
            [
             0.5555555555555556,
             "#d8576b"
            ],
            [
             0.6666666666666666,
             "#ed7953"
            ],
            [
             0.7777777777777778,
             "#fb9f3a"
            ],
            [
             0.8888888888888888,
             "#fdca26"
            ],
            [
             1,
             "#f0f921"
            ]
           ],
           "sequentialminus": [
            [
             0,
             "#0d0887"
            ],
            [
             0.1111111111111111,
             "#46039f"
            ],
            [
             0.2222222222222222,
             "#7201a8"
            ],
            [
             0.3333333333333333,
             "#9c179e"
            ],
            [
             0.4444444444444444,
             "#bd3786"
            ],
            [
             0.5555555555555556,
             "#d8576b"
            ],
            [
             0.6666666666666666,
             "#ed7953"
            ],
            [
             0.7777777777777778,
             "#fb9f3a"
            ],
            [
             0.8888888888888888,
             "#fdca26"
            ],
            [
             1,
             "#f0f921"
            ]
           ]
          },
          "colorway": [
           "#636efa",
           "#EF553B",
           "#00cc96",
           "#ab63fa",
           "#FFA15A",
           "#19d3f3",
           "#FF6692",
           "#B6E880",
           "#FF97FF",
           "#FECB52"
          ],
          "font": {
           "color": "#2a3f5f"
          },
          "geo": {
           "bgcolor": "white",
           "lakecolor": "white",
           "landcolor": "#E5ECF6",
           "showlakes": true,
           "showland": true,
           "subunitcolor": "white"
          },
          "hoverlabel": {
           "align": "left"
          },
          "hovermode": "closest",
          "mapbox": {
           "style": "light"
          },
          "paper_bgcolor": "white",
          "plot_bgcolor": "#E5ECF6",
          "polar": {
           "angularaxis": {
            "gridcolor": "white",
            "linecolor": "white",
            "ticks": ""
           },
           "bgcolor": "#E5ECF6",
           "radialaxis": {
            "gridcolor": "white",
            "linecolor": "white",
            "ticks": ""
           }
          },
          "scene": {
           "xaxis": {
            "backgroundcolor": "#E5ECF6",
            "gridcolor": "white",
            "gridwidth": 2,
            "linecolor": "white",
            "showbackground": true,
            "ticks": "",
            "zerolinecolor": "white"
           },
           "yaxis": {
            "backgroundcolor": "#E5ECF6",
            "gridcolor": "white",
            "gridwidth": 2,
            "linecolor": "white",
            "showbackground": true,
            "ticks": "",
            "zerolinecolor": "white"
           },
           "zaxis": {
            "backgroundcolor": "#E5ECF6",
            "gridcolor": "white",
            "gridwidth": 2,
            "linecolor": "white",
            "showbackground": true,
            "ticks": "",
            "zerolinecolor": "white"
           }
          },
          "shapedefaults": {
           "line": {
            "color": "#2a3f5f"
           }
          },
          "ternary": {
           "aaxis": {
            "gridcolor": "white",
            "linecolor": "white",
            "ticks": ""
           },
           "baxis": {
            "gridcolor": "white",
            "linecolor": "white",
            "ticks": ""
           },
           "bgcolor": "#E5ECF6",
           "caxis": {
            "gridcolor": "white",
            "linecolor": "white",
            "ticks": ""
           }
          },
          "title": {
           "x": 0.05
          },
          "xaxis": {
           "automargin": true,
           "gridcolor": "white",
           "linecolor": "white",
           "ticks": "",
           "title": {
            "standoff": 15
           },
           "zerolinecolor": "white",
           "zerolinewidth": 2
          },
          "yaxis": {
           "automargin": true,
           "gridcolor": "white",
           "linecolor": "white",
           "ticks": "",
           "title": {
            "standoff": 15
           },
           "zerolinecolor": "white",
           "zerolinewidth": 2
          }
         }
        },
        "title": {
         "text": "Gender Distribution (Male vs Female)",
         "x": 0.5
        }
       }
      },
      "image/png": "[encoded data removed]",
      "text/html": [
       "<div>                            <div id=\"83cd5284-f08a-47b1-af2c-7e05f5843a4c\" class=\"plotly-graph-div\" style=\"height:525px; width:100%;\"></div>            <script type=\"text/javascript\">                require([\"plotly\"], function(Plotly) {                    window.PLOTLYENV=window.PLOTLYENV || {};                                    if (document.getElementById(\"83cd5284-f08a-47b1-af2c-7e05f5843a4c\")) {                    Plotly.newPlot(                        \"83cd5284-f08a-47b1-af2c-7e05f5843a4c\",                        [{\"gauge\":{\"axis\":{\"range\":[0,992]}},\"mode\":\"gauge+number\",\"title\":{\"text\":\"Females\"},\"value\":149,\"type\":\"indicator\",\"domain\":{\"x\":[0.0,0.45],\"y\":[0.0,1.0]}},{\"gauge\":{\"axis\":{\"range\":[0,992]}},\"mode\":\"gauge+number\",\"title\":{\"text\":\"Males\"},\"value\":843,\"type\":\"indicator\",\"domain\":{\"x\":[0.55,1.0],\"y\":[0.0,1.0]}}],                        {\"template\":{\"data\":{\"histogram2dcontour\":[{\"type\":\"histogram2dcontour\",\"colorbar\":{\"outlinewidth\":0,\"ticks\":\"\"},\"colorscale\":[[0.0,\"#0d0887\"],[0.1111111111111111,\"#46039f\"],[0.2222222222222222,\"#7201a8\"],[0.3333333333333333,\"#9c179e\"],[0.4444444444444444,\"#bd3786\"],[0.5555555555555556,\"#d8576b\"],[0.6666666666666666,\"#ed7953\"],[0.7777777777777778,\"#fb9f3a\"],[0.8888888888888888,\"#fdca26\"],[1.0,\"#f0f921\"]]}],\"choropleth\":[{\"type\":\"choropleth\",\"colorbar\":{\"outlinewidth\":0,\"ticks\":\"\"}}],\"histogram2d\":[{\"type\":\"histogram2d\",\"colorbar\":{\"outlinewidth\":0,\"ticks\":\"\"},\"colorscale\":[[0.0,\"#0d0887\"],[0.1111111111111111,\"#46039f\"],[0.2222222222222222,\"#7201a8\"],[0.3333333333333333,\"#9c179e\"],[0.4444444444444444,\"#bd3786\"],[0.5555555555555556,\"#d8576b\"],[0.6666666666666666,\"#ed7953\"],[0.7777777777777778,\"#fb9f3a\"],[0.8888888888888888,\"#fdca26\"],[1.0,\"#f0f921\"]]}],\"heatmap\":[{\"type\":\"heatmap\",\"colorbar\":{\"outlinewidth\":0,\"ticks\":\"\"},\"colorscale\":[[0.0,\"#0d0887\"],[0.1111111111111111,\"#46039f\"],[0.2222222222222222,\"#7201a8\"],[0.3333333333333333,\"#9c179e\"],[0.4444444444444444,\"#bd3786\"],[0.5555555555555556,\"#d8576b\"],[0.6666666666666666,\"#ed7953\"],[0.7777777777777778,\"#fb9f3a\"],[0.8888888888888888,\"#fdca26\"],[1.0,\"#f0f921\"]]}],\"heatmapgl\":[{\"type\":\"heatmapgl\",\"colorbar\":{\"outlinewidth\":0,\"ticks\":\"\"},\"colorscale\":[[0.0,\"#0d0887\"],[0.1111111111111111,\"#46039f\"],[0.2222222222222222,\"#7201a8\"],[0.3333333333333333,\"#9c179e\"],[0.4444444444444444,\"#bd3786\"],[0.5555555555555556,\"#d8576b\"],[0.6666666666666666,\"#ed7953\"],[0.7777777777777778,\"#fb9f3a\"],[0.8888888888888888,\"#fdca26\"],[1.0,\"#f0f921\"]]}],\"contourcarpet\":[{\"type\":\"contourcarpet\",\"colorbar\":{\"outlinewidth\":0,\"ticks\":\"\"}}],\"contour\":[{\"type\":\"contour\",\"colorbar\":{\"outlinewidth\":0,\"ticks\":\"\"},\"colorscale\":[[0.0,\"#0d0887\"],[0.1111111111111111,\"#46039f\"],[0.2222222222222222,\"#7201a8\"],[0.3333333333333333,\"#9c179e\"],[0.4444444444444444,\"#bd3786\"],[0.5555555555555556,\"#d8576b\"],[0.6666666666666666,\"#ed7953\"],[0.7777777777777778,\"#fb9f3a\"],[0.8888888888888888,\"#fdca26\"],[1.0,\"#f0f921\"]]}],\"surface\":[{\"type\":\"surface\",\"colorbar\":{\"outlinewidth\":0,\"ticks\":\"\"},\"colorscale\":[[0.0,\"#0d0887\"],[0.1111111111111111,\"#46039f\"],[0.2222222222222222,\"#7201a8\"],[0.3333333333333333,\"#9c179e\"],[0.4444444444444444,\"#bd3786\"],[0.5555555555555556,\"#d8576b\"],[0.6666666666666666,\"#ed7953\"],[0.7777777777777778,\"#fb9f3a\"],[0.8888888888888888,\"#fdca26\"],[1.0,\"#f0f921\"]]}],\"mesh3d\":[{\"type\":\"mesh3d\",\"colorbar\":{\"outlinewidth\":0,\"ticks\":\"\"}}],\"scatter\":[{\"fillpattern\":{\"fillmode\":\"overlay\",\"size\":10,\"solidity\":0.2},\"type\":\"scatter\"}],\"parcoords\":[{\"type\":\"parcoords\",\"line\":{\"colorbar\":{\"outlinewidth\":0,\"ticks\":\"\"}}}],\"scatterpolargl\":[{\"type\":\"scatterpolargl\",\"marker\":{\"colorbar\":{\"outlinewidth\":0,\"ticks\":\"\"}}}],\"bar\":[{\"error_x\":{\"color\":\"#2a3f5f\"},\"error_y\":{\"color\":\"#2a3f5f\"},\"marker\":{\"line\":{\"color\":\"#E5ECF6\",\"width\":0.5},\"pattern\":{\"fillmode\":\"overlay\",\"size\":10,\"solidity\":0.2}},\"type\":\"bar\"}],\"scattergeo\":[{\"type\":\"scattergeo\",\"marker\":{\"colorbar\":{\"outlinewidth\":0,\"ticks\":\"\"}}}],\"scatterpolar\":[{\"type\":\"scatterpolar\",\"marker\":{\"colorbar\":{\"outlinewidth\":0,\"ticks\":\"\"}}}],\"histogram\":[{\"marker\":{\"pattern\":{\"fillmode\":\"overlay\",\"size\":10,\"solidity\":0.2}},\"type\":\"histogram\"}],\"scattergl\":[{\"type\":\"scattergl\",\"marker\":{\"colorbar\":{\"outlinewidth\":0,\"ticks\":\"\"}}}],\"scatter3d\":[{\"type\":\"scatter3d\",\"line\":{\"colorbar\":{\"outlinewidth\":0,\"ticks\":\"\"}},\"marker\":{\"colorbar\":{\"outlinewidth\":0,\"ticks\":\"\"}}}],\"scattermapbox\":[{\"type\":\"scattermapbox\",\"marker\":{\"colorbar\":{\"outlinewidth\":0,\"ticks\":\"\"}}}],\"scatterternary\":[{\"type\":\"scatterternary\",\"marker\":{\"colorbar\":{\"outlinewidth\":0,\"ticks\":\"\"}}}],\"scattercarpet\":[{\"type\":\"scattercarpet\",\"marker\":{\"colorbar\":{\"outlinewidth\":0,\"ticks\":\"\"}}}],\"carpet\":[{\"aaxis\":{\"endlinecolor\":\"#2a3f5f\",\"gridcolor\":\"white\",\"linecolor\":\"white\",\"minorgridcolor\":\"white\",\"startlinecolor\":\"#2a3f5f\"},\"baxis\":{\"endlinecolor\":\"#2a3f5f\",\"gridcolor\":\"white\",\"linecolor\":\"white\",\"minorgridcolor\":\"white\",\"startlinecolor\":\"#2a3f5f\"},\"type\":\"carpet\"}],\"table\":[{\"cells\":{\"fill\":{\"color\":\"#EBF0F8\"},\"line\":{\"color\":\"white\"}},\"header\":{\"fill\":{\"color\":\"#C8D4E3\"},\"line\":{\"color\":\"white\"}},\"type\":\"table\"}],\"barpolar\":[{\"marker\":{\"line\":{\"color\":\"#E5ECF6\",\"width\":0.5},\"pattern\":{\"fillmode\":\"overlay\",\"size\":10,\"solidity\":0.2}},\"type\":\"barpolar\"}],\"pie\":[{\"automargin\":true,\"type\":\"pie\"}]},\"layout\":{\"autotypenumbers\":\"strict\",\"colorway\":[\"#636efa\",\"#EF553B\",\"#00cc96\",\"#ab63fa\",\"#FFA15A\",\"#19d3f3\",\"#FF6692\",\"#B6E880\",\"#FF97FF\",\"#FECB52\"],\"font\":{\"color\":\"#2a3f5f\"},\"hovermode\":\"closest\",\"hoverlabel\":{\"align\":\"left\"},\"paper_bgcolor\":\"white\",\"plot_bgcolor\":\"#E5ECF6\",\"polar\":{\"bgcolor\":\"#E5ECF6\",\"angularaxis\":{\"gridcolor\":\"white\",\"linecolor\":\"white\",\"ticks\":\"\"},\"radialaxis\":{\"gridcolor\":\"white\",\"linecolor\":\"white\",\"ticks\":\"\"}},\"ternary\":{\"bgcolor\":\"#E5ECF6\",\"aaxis\":{\"gridcolor\":\"white\",\"linecolor\":\"white\",\"ticks\":\"\"},\"baxis\":{\"gridcolor\":\"white\",\"linecolor\":\"white\",\"ticks\":\"\"},\"caxis\":{\"gridcolor\":\"white\",\"linecolor\":\"white\",\"ticks\":\"\"}},\"coloraxis\":{\"colorbar\":{\"outlinewidth\":0,\"ticks\":\"\"}},\"colorscale\":{\"sequential\":[[0.0,\"#0d0887\"],[0.1111111111111111,\"#46039f\"],[0.2222222222222222,\"#7201a8\"],[0.3333333333333333,\"#9c179e\"],[0.4444444444444444,\"#bd3786\"],[0.5555555555555556,\"#d8576b\"],[0.6666666666666666,\"#ed7953\"],[0.7777777777777778,\"#fb9f3a\"],[0.8888888888888888,\"#fdca26\"],[1.0,\"#f0f921\"]],\"sequentialminus\":[[0.0,\"#0d0887\"],[0.1111111111111111,\"#46039f\"],[0.2222222222222222,\"#7201a8\"],[0.3333333333333333,\"#9c179e\"],[0.4444444444444444,\"#bd3786\"],[0.5555555555555556,\"#d8576b\"],[0.6666666666666666,\"#ed7953\"],[0.7777777777777778,\"#fb9f3a\"],[0.8888888888888888,\"#fdca26\"],[1.0,\"#f0f921\"]],\"diverging\":[[0,\"#8e0152\"],[0.1,\"#c51b7d\"],[0.2,\"#de77ae\"],[0.3,\"#f1b6da\"],[0.4,\"#fde0ef\"],[0.5,\"#f7f7f7\"],[0.6,\"#e6f5d0\"],[0.7,\"#b8e186\"],[0.8,\"#7fbc41\"],[0.9,\"#4d9221\"],[1,\"#276419\"]]},\"xaxis\":{\"gridcolor\":\"white\",\"linecolor\":\"white\",\"ticks\":\"\",\"title\":{\"standoff\":15},\"zerolinecolor\":\"white\",\"automargin\":true,\"zerolinewidth\":2},\"yaxis\":{\"gridcolor\":\"white\",\"linecolor\":\"white\",\"ticks\":\"\",\"title\":{\"standoff\":15},\"zerolinecolor\":\"white\",\"automargin\":true,\"zerolinewidth\":2},\"scene\":{\"xaxis\":{\"backgroundcolor\":\"#E5ECF6\",\"gridcolor\":\"white\",\"linecolor\":\"white\",\"showbackground\":true,\"ticks\":\"\",\"zerolinecolor\":\"white\",\"gridwidth\":2},\"yaxis\":{\"backgroundcolor\":\"#E5ECF6\",\"gridcolor\":\"white\",\"linecolor\":\"white\",\"showbackground\":true,\"ticks\":\"\",\"zerolinecolor\":\"white\",\"gridwidth\":2},\"zaxis\":{\"backgroundcolor\":\"#E5ECF6\",\"gridcolor\":\"white\",\"linecolor\":\"white\",\"showbackground\":true,\"ticks\":\"\",\"zerolinecolor\":\"white\",\"gridwidth\":2}},\"shapedefaults\":{\"line\":{\"color\":\"#2a3f5f\"}},\"annotationdefaults\":{\"arrowcolor\":\"#2a3f5f\",\"arrowhead\":0,\"arrowwidth\":1},\"geo\":{\"bgcolor\":\"white\",\"landcolor\":\"#E5ECF6\",\"subunitcolor\":\"white\",\"showland\":true,\"showlakes\":true,\"lakecolor\":\"white\"},\"title\":{\"x\":0.05},\"mapbox\":{\"style\":\"light\"}}},\"title\":{\"text\":\"Gender Distribution (Male vs Female)\",\"x\":0.5}},                        {\"responsive\": true}                    ).then(function(){\n",
       "                            \n",
       "var gd = document.getElementById('83cd5284-f08a-47b1-af2c-7e05f5843a4c');\n",
       "var x = new MutationObserver(function (mutations, observer) {{\n",
       "        var display = window.getComputedStyle(gd).display;\n",
       "        if (!display || display === 'none') {{\n",
       "            console.log([gd, 'removed!']);\n",
       "            Plotly.purge(gd);\n",
       "            observer.disconnect();\n",
       "        }}\n",
       "}});\n",
       "\n",
       "// Listen for the removal of the full notebook cells\n",
       "var notebookContainer = gd.closest('#notebook-container');\n",
       "if (notebookContainer) {{\n",
       "    x.observe(notebookContainer, {childList: true});\n",
       "}}\n",
       "\n",
       "// Listen for the clearing of the current output cell\n",
       "var outputEl = gd.closest('.output');\n",
       "if (outputEl) {{\n",
       "    x.observe(outputEl, {childList: true});\n",
       "}}\n",
       "\n",
       "                        })                };                });            </script>        </div>"
      ]
     },
     "metadata": {},
     "output_type": "display_data"
    }
   ],
   "source": [
    "#AQ 1. Generate Guage chart for Male and Female KPIs in the Trademill test data\n",
    "import pandas as pd\n",
    "import matplotlib.pyplot as plt\n",
    "import plotly.graph_objects as go\n",
    "from plotly.subplots import make_subplots\n",
    "\n",
    "# Load the datasets\n",
    "test_measure = pd.read_csv(\"test_measure.csv\")\n",
    "subject_info = pd.read_csv(\"subject-info.csv\")\n",
    "\n",
    "# Map numerical values to 'Male' and 'Female'\n",
    "subject_info['Sex'] = subject_info['Sex'].map({0: 'Male', 1: 'Female'})\n",
    "\n",
    "# Count the number of males and females\n",
    "gender_count = subject_info['Sex'].value_counts()\n",
    "\n",
    "# Create subplots with the domain type for Gauge charts\n",
    "fig = make_subplots(\n",
    "    rows=1, cols=2, \n",
    "    specs=[[{\"type\": \"indicator\"}, {\"type\": \"indicator\"}]],\n",
    "   )\n",
    "\n",
    "# Add Female Gauge\n",
    "fig.add_trace(\n",
    "    go.Indicator(\n",
    "        mode=\"gauge+number\",\n",
    "        value=gender_count['Female'],\n",
    "        title={'text': \"Females\"},\n",
    "        gauge={'axis': {'range': [0, gender_count.sum()]}}\n",
    "    ),\n",
    "    row=1, col=1\n",
    ")\n",
    "\n",
    "# Add Male Gauge\n",
    "fig.add_trace(\n",
    "    go.Indicator(\n",
    "        mode=\"gauge+number\",\n",
    "        value=gender_count['Male'],\n",
    "        title={'text': \"Males\"},\n",
    "        gauge={'axis': {'range': [0, gender_count.sum()]}}\n",
    "    ),\n",
    "    row=1, col=2\n",
    ")\n",
    "\n",
    "# Update layout for better visualization\n",
    "fig.update_layout(title_text=\"Gender Distribution (Male vs Female)\", title_x=0.5)\n",
    "\n",
    "# Display the chart\n",
    "fig.show()"
   ]
  },
  {
   "cell_type": "markdown",
   "id": "287cee5c-39dc-4082-a75f-991667b4a3ff",
   "metadata": {
    "jp-MarkdownHeadingCollapsed": true
   },
   "source": [
    "## AQ2. Calculate average VO2 max values between male and female athletes?"
   ]
  },
  {
   "cell_type": "code",
   "execution_count": 27,
   "id": "593329a5-83ec-4dc0-ab3d-a43ee1708e58",
   "metadata": {},
   "outputs": [
    {
     "name": "stdout",
     "output_type": "stream",
     "text": [
      "Average VO2 max values by gender:\n",
      "Sex\n",
      "Female    2547.74\n",
      "Male      3736.22\n",
      "Name: VO2_max, dtype: float64\n"
     ]
    }
   ],
   "source": [
    "#AQ2. Calculate average VO2 max values between male and female athletes?\n",
    "\n",
    "import pandas as pd\n",
    "\n",
    "# Load the datasets\n",
    "test_measure = pd.read_csv(\"test_measure.csv\")\n",
    "subject_info = pd.read_csv(\"subject-info.csv\")\n",
    "\n",
    "# Map numerical values to 'Male' and 'Female'\n",
    "subject_info['Sex'] = subject_info['Sex'].map({0: 'Male', 1: 'Female'})\n",
    "\n",
    "# Step 1: Calculate VO2 max for each participant\n",
    "vo2_max_data = test_measure.groupby('ID_test')['VO2'].max().reset_index()\n",
    "vo2_max_data.rename(columns={'VO2': 'VO2_max'}, inplace=True)\n",
    "\n",
    "# Format the VO2_max column to 2 decimal places\n",
    "vo2_max_data['VO2_max'] = vo2_max_data['VO2_max'].round(2)\n",
    "\n",
    "# Step 2: Merge VO2 max data with subject-info\n",
    "merged_data = pd.merge(vo2_max_data, subject_info, on='ID_test')\n",
    "\n",
    "# Step 3: Group by gender and calculate the average VO2 max\n",
    "average_vo2_max = merged_data.groupby('Sex')['VO2_max'].mean()\n",
    "\n",
    "# Format average VO2 max to 2 decimal places\n",
    "average_vo2_max = average_vo2_max.round(2)\n",
    "\n",
    "# Display the results\n",
    "print(\"Average VO2 max values by gender:\")\n",
    "print(average_vo2_max)"
   ]
  },
  {
   "cell_type": "markdown",
   "id": "d792bb08-7e14-4652-9eab-02c36c219ed2",
   "metadata": {
    "jp-MarkdownHeadingCollapsed": true
   },
   "source": [
    "## AQ3: List Average Height and Weight of Athelets by Gender"
   ]
  },
  {
   "cell_type": "code",
   "execution_count": 29,
   "id": "314d8db2-61f0-412a-9d9a-9de7da372844",
   "metadata": {},
   "outputs": [
    {
     "name": "stdout",
     "output_type": "stream",
     "text": [
      "Average Height and Weight by Gender:\n",
      "\n",
      "\n",
      "        Height  Weight\n",
      "Sex                   \n",
      "Female  166.79   62.70\n",
      "Male    176.35   75.27\n"
     ]
    }
   ],
   "source": [
    "#AQ3: List Average Height and Weight of Athelets by Gender\n",
    "import pandas as pd\n",
    "# Load the datasets\n",
    "subject_info = pd.read_csv(\"subject-info.csv\")\n",
    "\n",
    "# Map numerical gender values (0 -> Male, 1 -> Female)\n",
    "subject_info['Sex'] = subject_info['Sex'].map({0: 'Male', 1: 'Female'})\n",
    "\n",
    "# Group data by gender and calculate the mean height and weight\n",
    "average_stats = subject_info.groupby('Sex')[['Height', 'Weight']].mean().round(2)\n",
    "\n",
    "# Print the results\n",
    "print(\"Average Height and Weight by Gender:\")\n",
    "print('\\n')\n",
    "print(average_stats)"
   ]
  },
  {
   "cell_type": "markdown",
   "id": "dcc3cf4d-5702-4a2e-8ac0-91c00878fe93",
   "metadata": {
    "jp-MarkdownHeadingCollapsed": true
   },
   "source": [
    "## AQ 4 . Analyze if there are differences in peak treadmill speeds achieved across genders and age brackets"
   ]
  },
  {
   "cell_type": "code",
   "execution_count": 31,
   "id": "cd5369c6-ede0-48cf-99d1-f5f5e54b9d2e",
   "metadata": {},
   "outputs": [
    {
     "data": {
      "image/png": "[encoded data removed]",
      "text/plain": [
       "<Figure size 640x480 with 1 Axes>"
      ]
     },
     "metadata": {},
     "output_type": "display_data"
    }
   ],
   "source": [
    "#AQ 4 . Analyze if there are differences in peak treadmill speeds achieved across genders and age brackets\n",
    "# Step 1: Calculate peak speed for each participant\n",
    "import pandas as pd\n",
    "import matplotlib.pyplot as plt\n",
    "\n",
    "# Load the datasets\n",
    "test_measure = pd.read_csv(\"test_measure.csv\")\n",
    "subject_info = pd.read_csv(\"subject-info.csv\")\n",
    "\n",
    "peak_speed_data = test_measure.groupby('ID_test')['Speed'].max().reset_index()\n",
    "peak_speed_data.rename(columns={'Speed': 'peak_speed'}, inplace=True)\n",
    "\n",
    "# Step 2: Merge peak speed data with subject demographic information\n",
    "merged_data = pd.merge(peak_speed_data, subject_info, on='ID_test')\n",
    "\n",
    "# Step 3: Map numerical gender values (0 -> Male, 1 -> Female)\n",
    "merged_data['Sex'] = merged_data['Sex'].map({0: 'Male', 1: 'Female'})\n",
    "\n",
    "# Step 4: Create age brackets\n",
    "bins = [18, 25, 35, 45, 55, 65, 75]  # Define age bins\n",
    "labels = ['18-25', '26-35', '36-45', '46-55', '56-65', '66-75']  # Age group labels\n",
    "merged_data['Age_Group'] = pd.cut(merged_data['Age'], bins=bins, labels=labels)\n",
    "\n",
    "# Step 5: Group by gender and age brackets, and calculate average peak speed\n",
    "peak_speed_analysis = merged_data.groupby(['Sex', 'Age_Group'], observed=False)['peak_speed'].mean().unstack('Sex')\n",
    "\n",
    "# Step 5: Group by gender and age brackets, calculate average peak speed, and count athletes\n",
    "peak_speed_analysis_Count = merged_data.groupby(['Sex', 'Age_Group'], observed=False).agg(\n",
    "    peak_speed=('peak_speed', 'mean'), count=('peak_speed', 'size')).unstack('Sex')\n",
    "\n",
    "# Separate mean speeds and counts\n",
    "#peak_speed_means = peak_speed_analysis['peak_speed']\n",
    "athlete_counts = peak_speed_analysis_Count['count']\n",
    "\n",
    "# Step 6: Plot the results\n",
    "# Define custom colors for male and female\n",
    "colors = {'Male': 'blue', 'Female': 'pink'}\n",
    "#peak_speed_analysis.plot(kind='bar', edgecolor='black', colormap='viridis')\n",
    "ax = peak_speed_analysis.plot(kind='bar', \n",
    "                         color=[colors['Male'], colors['Female']], \n",
    "                         edgecolor='black')\n",
    "\n",
    "# Add data labels (athlete counts) above bars\n",
    "for container, counts in zip(ax.containers, athlete_counts.T.values):\n",
    "    ax.bar_label(container, labels=[f'{int(c)}' for c in counts], label_type='edge')\n",
    "    \n",
    "plt.title(\"Average Peak Treadmill Speed by Gender and Age Groups\")\n",
    "plt.xlabel(\"Age Groups\")\n",
    "plt.ylabel(\"Peak Speed (units)\")\n",
    "plt.xticks(rotation=45)\n",
    "plt.legend(title=\"Gender\")\n",
    "plt.tight_layout()\n",
    "plt.grid(axis='y', linestyle='--', alpha=0.7)\n",
    "\n",
    "# Display the plot\n",
    "plt.show()"
   ]
  },
  {
   "cell_type": "markdown",
   "id": "0a822fe2-86b1-4e2f-8b41-54f15f4bb1a8",
   "metadata": {
    "jp-MarkdownHeadingCollapsed": true
   },
   "source": [
    "## AQ5. Performance metrics of VO2 across ranges of temperature and humidity"
   ]
  },
  {
   "cell_type": "code",
   "execution_count": 63,
   "id": "e9ccb9c3-ca5b-4c0e-bd2a-ee0005ac16b9",
   "metadata": {},
   "outputs": [
    {
     "name": "stdout",
     "output_type": "stream",
     "text": [
      "Performance Metrics by Temperature Range:\n",
      "                           VO2\n",
      "Temperature_Range             \n",
      "<20°C              2281.152266\n",
      "20-30°C            2316.517282\n",
      "30-40°C            2376.358459\n",
      "\n",
      "Performance Metrics by Humidity Range:\n",
      "                        VO2\n",
      "Humidity_Range             \n",
      "<30%            2119.032343\n",
      "30-60%          2310.812685\n",
      "60-90%          2326.724340\n"
     ]
    },
    {
     "data": {
      "image/png": "[encoded data removed]",
      "text/plain": [
       "<Figure size 640x480 with 1 Axes>"
      ]
     },
     "metadata": {},
     "output_type": "display_data"
    },
    {
     "data": {
      "image/png": "[encoded data removed]",
      "text/plain": [
       "<Figure size 640x480 with 1 Axes>"
      ]
     },
     "metadata": {},
     "output_type": "display_data"
    }
   ],
   "source": [
    "#AQ5. Performance metrics of VO2 across ranges of temperature and humidity\n",
    "import pandas as pd\n",
    "import seaborn as sns\n",
    "import matplotlib.pyplot as plt\n",
    "\n",
    "# Load the dataset\n",
    "# Replace these filenames with your actual filenames\n",
    "performance_data = pd.read_csv(\"test_measure.csv\")  # Contains VO2, RR, Peak Speed\n",
    "environment_data = pd.read_csv(\"subject-info.csv\")  # Contains Temperature, Humidity, ID_test\n",
    "\n",
    "# Merge the datasets on the common identifier 'ID_test'\n",
    "merged_data = pd.merge(performance_data, environment_data, on='ID_test')\n",
    "\n",
    "# Step 1: Create temperature and humidity ranges\n",
    "temp_bins = [0, 20, 30, 40]  # Define temperature bins\n",
    "temp_labels = ['<20°C', '20-30°C', '30-40°C']\n",
    "merged_data['Temperature_Range'] = pd.cut(merged_data['Temperature'], bins=temp_bins, labels=temp_labels)\n",
    "\n",
    "humidity_bins = [0, 30, 60, 90]  # Define humidity bins\n",
    "humidity_labels = ['<30%', '30-60%', '60-90%']\n",
    "merged_data['Humidity_Range'] = pd.cut(merged_data['Humidity'], bins=humidity_bins, labels=humidity_labels)\n",
    "\n",
    "# Step 2: Group by Temperature and Humidity ranges and calculate means\n",
    "grouped_temp = merged_data.groupby('Temperature_Range', observed=False)[['VO2']].mean()\n",
    "grouped_humidity = merged_data.groupby('Humidity_Range', observed=False)[['VO2']].mean()\n",
    "\n",
    "# Print the results\n",
    "print(\"Performance Metrics by Temperature Range:\")\n",
    "print(grouped_temp)\n",
    "print(\"\\nPerformance Metrics by Humidity Range:\")\n",
    "print(grouped_humidity)\n",
    "\n",
    "# Step 3: Visualization\n",
    "# Boxplot for Temperature vs VO2\n",
    "sns.boxplot(x='Temperature_Range', y='VO2', data=merged_data, hue='Temperature_Range', palette='coolwarm', legend=False)\n",
    "plt.title('VO2 Across Temperature Ranges')\n",
    "plt.xlabel('Temperature Range')\n",
    "plt.ylabel('VO2')\n",
    "plt.grid(axis='y', linestyle='--', alpha=0.7)\n",
    "plt.tight_layout()\n",
    "plt.show()\n",
    "\n",
    "# Boxplot for Humidity vs VO2\n",
    "sns.boxplot(x='Humidity_Range', y='VO2',  data=merged_data, hue='Humidity_Range', palette='Blues',legend=False)\n",
    "plt.title('VO2 Across Humidity Ranges')\n",
    "plt.xlabel('Humidity Range')\n",
    "plt.ylabel('VO2')\n",
    "plt.grid(axis='y', linestyle='--', alpha=0.7)\n",
    "plt.tight_layout()\n",
    "plt.show()\n"
   ]
  },
  {
   "cell_type": "markdown",
   "id": "49241789-6dce-4480-83b5-50f16bee5369",
   "metadata": {
    "jp-MarkdownHeadingCollapsed": true
   },
   "source": [
    "## AQ6. Print the athelet who took maximum number of tests with his age, Height and Weight"
   ]
  },
  {
   "cell_type": "code",
   "execution_count": 17,
   "id": "2ba8fc48-5693-42ed-b303-272f263c219d",
   "metadata": {},
   "outputs": [
    {
     "name": "stdout",
     "output_type": "stream",
     "text": [
      "Athlet who has taken maximum Test is : 431\n",
      "Age: 18.0\n",
      "Height: 171.0\n",
      "Weight: 63.0\n"
     ]
    }
   ],
   "source": [
    "#AQ6. Print the athelet who took maximum number of tests with his age, Height and Weight\n",
    "import pandas as pd\n",
    "\n",
    "# Load the CSV files\n",
    "test_measure = pd.read_csv(\"Test_measure.csv\")\n",
    "subject_info = pd.read_csv(\"subject-info.csv\")\n",
    "\n",
    "# Count the number of tests each subject has taken\n",
    "test_counts = test_measure['ID_test'].value_counts()\n",
    "\n",
    "# Find the subject ID with the maximum tests\n",
    "max_tests_subject = test_counts.idxmax()\n",
    "\n",
    "# Retrieve their details from the subject-info file\n",
    "subject_details = subject_info[subject_info['ID_test'] == max_tests_subject]\n",
    "\n",
    "# Print the subject's age, height, and weight line by line\n",
    "print(f\"Athlet who has taken maximum Test is : {subject_details['ID'].values[0]}\")\n",
    "print(f\"Age: {subject_details['Age'].values[0]}\")\n",
    "print(f\"Height: {subject_details['Height'].values[0]}\")\n",
    "print(f\"Weight: {subject_details['Weight'].values[0]}\")"
   ]
  },
  {
   "cell_type": "markdown",
   "id": "68541a71-d409-479c-9d59-d106ad37b64d",
   "metadata": {
    "jp-MarkdownHeadingCollapsed": true
   },
   "source": [
    "## AQ7.Find the subject with the lowest fitness "
   ]
  },
  {
   "cell_type": "code",
   "execution_count": 45,
   "id": "de58dc28-31f9-4753-a055-cb79c6449cd3",
   "metadata": {},
   "outputs": [
    {
     "name": "stdout",
     "output_type": "stream",
     "text": [
      "Subject with lowest fitness: 820\n",
      "Age=16.8, Height=160.6 cm, Weight=67.0 kg, BMI=25.98\n"
     ]
    }
   ],
   "source": [
    "#AQ7.Find the subject with the lowest fitness \n",
    "import pandas as pd\n",
    "\n",
    "# Load the data\n",
    "test_data = pd.read_csv(\"Test_measure.csv\")\n",
    "subject_info = pd.read_csv(\"subject-info.csv\")\n",
    "\n",
    "# Calculate BMI for each subject\n",
    "subject_info['BMI'] = subject_info['Weight'] / ((subject_info['Height'] / 100) ** 2)\n",
    "\n",
    "# Merge test data with subject info to include HR, BMI, and Age\n",
    "merged_data = test_data.merge(subject_info, left_on='ID_test', right_on='ID_test')\n",
    "\n",
    "# Aggregate metrics by ID_test\n",
    "fitness_scores = merged_data[['ID_test', 'VO2', 'VCO2', 'RR', 'VE', 'HR', 'BMI', 'Age']].groupby('ID_test').mean()\n",
    "\n",
    "# Normalize all metrics (higher VO2 and lower others indicate better fitness)\n",
    "fitness_scores['Normalized_VO2'] = fitness_scores['VO2'] / fitness_scores['VO2'].max()\n",
    "fitness_scores['Normalized_VCO2'] = fitness_scores['VCO2'] / fitness_scores['VCO2'].max()\n",
    "fitness_scores['Normalized_RR'] = fitness_scores['RR'] / fitness_scores['RR'].max()\n",
    "fitness_scores['Normalized_VE'] = fitness_scores['VE'] / fitness_scores['VE'].max()\n",
    "fitness_scores['Normalized_HR'] = fitness_scores['HR'] / fitness_scores['HR'].max()\n",
    "fitness_scores['Normalized_BMI'] = fitness_scores['BMI'] / fitness_scores['BMI'].max()\n",
    "\n",
    "# Calculate fitness score (higher VO2 improves, higher others decrease fitness)\n",
    "fitness_scores['Fitness_Score'] = (\n",
    "    fitness_scores['Normalized_VO2'] -\n",
    "    (fitness_scores['Normalized_VCO2'] +\n",
    "     fitness_scores['Normalized_RR'] +\n",
    "     fitness_scores['Normalized_VE'] +\n",
    "     fitness_scores['Normalized_HR'] +\n",
    "     fitness_scores['Normalized_BMI']) / 5\n",
    ")\n",
    "# Identify the athlete with the lowest fitness score\n",
    "lowest_fitness_subject = fitness_scores['Fitness_Score'].idxmin()\n",
    "\n",
    "# Retrieve details of the subject with the lowest fitness\n",
    "subject_details = subject_info[subject_info['ID_test'] == lowest_fitness_subject]\n",
    "\n",
    "# Print the subject ID and other details horizontally\n",
    "print(f\"Subject with lowest fitness: {subject_details['ID'].values[0]}\")\n",
    "print(f\"Age={subject_details['Age'].values[0]}, Height={subject_details['Height'].values[0]} cm, \"\n",
    "      f\"Weight={subject_details['Weight'].values[0]} kg, BMI={subject_details['BMI'].values[0]:.2f}\")\n"
   ]
  },
  {
   "cell_type": "markdown",
   "id": "f5ba78bd-fc2a-4da5-818d-eafb3d0029f4",
   "metadata": {
    "jp-MarkdownHeadingCollapsed": true
   },
   "source": [
    "## AQ8. Mean, Median and Mode of Age"
   ]
  },
  {
   "cell_type": "code",
   "execution_count": 65,
   "id": "2fb4a130-74ea-4593-a8a8-28a6a7bdb6a3",
   "metadata": {},
   "outputs": [
    {
     "name": "stdout",
     "output_type": "stream",
     "text": [
      "Mean Age of Female Athletes: 26.04\n",
      "Median Age of Female Athletes: 24.50\n",
      "Mode Age of Female Athletes:\n",
      "0    16.1\n",
      "1    16.6\n",
      "2    16.7\n",
      "3    16.8\n",
      "4    22.7\n",
      "5    23.1\n",
      "6    26.9\n",
      "Name: Age, dtype: float64\n"
     ]
    }
   ],
   "source": [
    "#AQ8. Mean, Median and Mode of Age\n",
    "import pandas as pd\n",
    "\n",
    "# Load the subject information CSV file\n",
    "subject_info = pd.read_csv(\"subject-info.csv\")\n",
    "\n",
    "# Filter data to include only female athletes\n",
    "female_athletes = subject_info[subject_info['Sex'] == 1]\n",
    "\n",
    "# Calculate mean, median, and mode of Age\n",
    "mean_age = female_athletes['Age'].mean()\n",
    "median_age = female_athletes['Age'].median()\n",
    "mode_age = female_athletes['Age'].mode() # mode() can return multiple values, take the first one\n",
    "\n",
    "# Print results\n",
    "print(f\"Mean Age of Female Athletes: {mean_age:.2f}\")\n",
    "print(f\"Median Age of Female Athletes: {median_age:.2f}\")\n",
    "print(f\"Mode Age of Female Athletes:\\n{mode_age}\")"
   ]
  },
  {
   "cell_type": "markdown",
   "id": "5f228b51-2a04-44cb-95c1-d0ef62bb5fb3",
   "metadata": {
    "jp-MarkdownHeadingCollapsed": true
   },
   "source": [
    "## AQ9. Distribution chart of Fitness status by VO2 and BMI"
   ]
  },
  {
   "cell_type": "code",
   "execution_count": 3,
   "id": "aeac1b26-5f13-446d-8573-c14f3f090e2d",
   "metadata": {},
   "outputs": [
    {
     "data": {
      "image/png": "[encoded data removed]",
      "text/plain": [
       "<Figure size 1200x600 with 2 Axes>"
      ]
     },
     "metadata": {},
     "output_type": "display_data"
    }
   ],
   "source": [
    "# AQ9. Distribution chart of Fitness status by VO2 and BMI\n",
    "import pandas as pd\n",
    "import matplotlib.pyplot as plt\n",
    "import seaborn as sns\n",
    "\n",
    "# Load the dataset\n",
    "test_measure = pd.read_csv(\"test_measure.csv\")\n",
    "subject_info = pd.read_csv(\"subject-info.csv\")\n",
    "\n",
    "# Merge datasets based on participant ID\n",
    "merged_data = pd.merge(test_measure, subject_info, on=\"ID_test\")\n",
    "\n",
    "# Calculate BMI (Weight in kg, Height in meters)\n",
    "merged_data['Height_m'] = merged_data['Height'] / 100\n",
    "merged_data['BMI'] = merged_data['Weight'] / (merged_data['Height_m'] ** 2)\n",
    "\n",
    "# Define fitness criteria\n",
    "def strong_fitness(row):\n",
    "    if row['Sex'] == 'Male':\n",
    "        vo2_condition = row['VO2'] > 50\n",
    "    else:  # Female\n",
    "        vo2_condition = row['VO2'] > 40\n",
    "    hr_condition = 60 <= row['HR'] <= 100\n",
    "    return 18.5 <= row['BMI'] <= 24.9 and vo2_condition and hr_condition\n",
    "\n",
    "# Apply fitness classification\n",
    "merged_data['Fitness_Status'] = merged_data.apply(strong_fitness, axis=1)\n",
    "merged_data['Fitness_Status'] = merged_data['Fitness_Status'].replace({True: 'Fittest', False: 'Non-Fittest'})\n",
    "\n",
    "# Plot distribution charts for VO2 and BMI based on fitness status\n",
    "plt.figure(figsize=(12, 6))\n",
    "\n",
    "# VO2 distribution\n",
    "plt.subplot(1, 2, 1)\n",
    "sns.histplot(data=merged_data, x='VO2', hue='Fitness_Status', kde=True, bins=20, palette=\"coolwarm\")\n",
    "plt.title('Distribution of VO2 by Fitness Status')\n",
    "plt.xlabel('VO2')\n",
    "plt.ylabel('Frequency')\n",
    "\n",
    "# BMI distribution\n",
    "plt.subplot(1, 2, 2)\n",
    "sns.histplot(data=merged_data, x='BMI', hue='Fitness_Status', kde=True, bins=20, palette=\"coolwarm\")\n",
    "plt.title('Distribution of BMI by Fitness Status')\n",
    "plt.xlabel('BMI')\n",
    "plt.ylabel('Frequency')\n",
    "\n",
    "plt.tight_layout()\n",
    "plt.show()"
   ]
  },
  {
   "cell_type": "markdown",
   "id": "cd0a18b5-b3a1-41f2-b214-646874547f49",
   "metadata": {
    "jp-MarkdownHeadingCollapsed": true
   },
   "source": [
    "## AQ10. Calculate Fitness Score Table"
   ]
  },
  {
   "cell_type": "code",
   "execution_count": 62,
   "id": "95b4f9e3-020e-407a-9cc9-c7465fd1887a",
   "metadata": {},
   "outputs": [
    {
     "name": "stdout",
     "output_type": "stream",
     "text": [
      " ID  Fitness_Score\n",
      "  1       7.500000\n",
      "  2       7.500000\n",
      "  3       7.500000\n",
      "  4       7.500000\n",
      "  5       7.500000\n",
      "  6       7.500000\n",
      "  7       7.500000\n",
      "  7       7.500000\n",
      "  8       7.500000\n",
      "  9       7.500000\n",
      " 10       7.500000\n",
      " 11       7.500000\n",
      " 12       7.500000\n",
      " 13       7.500000\n",
      " 14       7.500000\n",
      " 15       7.500000\n",
      " 15       7.500000\n",
      " 15       7.500000\n",
      " 16       7.500000\n",
      " 17       7.500000\n",
      " 18       7.500000\n",
      " 19       7.500000\n",
      " 19       7.500000\n",
      " 20       7.500000\n",
      " 21       7.500000\n",
      " 22       7.500000\n",
      " 23       7.500000\n",
      " 24       7.500000\n",
      " 25       7.500000\n",
      " 26       7.500000\n",
      " 27       7.500000\n",
      " 28       7.500000\n",
      " 29       7.500000\n",
      " 30       7.500000\n",
      " 31       7.500000\n",
      " 32       7.500000\n",
      " 33       7.500000\n",
      " 34       7.500000\n",
      " 35       7.500000\n",
      " 36       7.500000\n",
      " 36       7.500000\n",
      " 37       7.500000\n",
      " 38       7.500000\n",
      " 39       7.500000\n",
      " 40       7.500000\n",
      " 41       7.500000\n",
      " 42       7.500000\n",
      " 43       7.500000\n",
      " 44       7.500000\n",
      " 45       7.500000\n",
      " 45       7.500000\n",
      " 46       7.500000\n",
      " 47       7.500000\n",
      " 48       7.500000\n",
      " 49       7.500000\n",
      " 50       7.500000\n",
      " 51       7.500000\n",
      " 52       7.500000\n",
      " 53       7.500000\n",
      " 54       7.500000\n",
      " 55       7.500000\n",
      " 56       7.500000\n",
      " 57       7.500000\n",
      " 57       7.500000\n",
      " 58       7.500000\n",
      " 58       7.500000\n",
      " 58       7.500000\n",
      " 59       7.500000\n",
      " 59       7.500000\n",
      " 60       7.500000\n",
      " 60       7.500000\n",
      " 61       7.500000\n",
      " 62       7.500000\n",
      " 63       7.500000\n",
      " 64       7.500000\n",
      " 65       7.500000\n",
      " 66       7.500000\n",
      " 67       7.500000\n",
      " 68       7.500000\n",
      " 69       7.500000\n",
      " 70       7.500000\n",
      " 71       7.500000\n",
      " 72       7.500000\n",
      " 72       7.500000\n",
      " 73       6.666667\n",
      " 74       7.500000\n",
      " 75       7.500000\n",
      " 76       7.500000\n",
      " 77       7.500000\n",
      " 78       7.500000\n",
      " 79       7.500000\n",
      " 80       7.500000\n",
      " 80       7.500000\n",
      " 81       7.500000\n",
      " 82       7.500000\n",
      " 82       7.500000\n",
      " 83       7.500000\n",
      " 84       7.500000\n",
      " 85       7.500000\n",
      " 86       7.500000\n",
      " 87       7.500000\n",
      " 88       7.500000\n",
      " 89       7.500000\n",
      " 90       7.500000\n",
      " 91       7.500000\n",
      " 92       7.500000\n",
      " 93       7.500000\n",
      " 94       7.500000\n",
      " 95       7.500000\n",
      " 96       7.500000\n",
      " 97       7.500000\n",
      " 98       7.500000\n",
      " 99       7.500000\n",
      " 99       7.500000\n",
      " 99       7.500000\n",
      "100       7.500000\n",
      "101       7.500000\n",
      "102       7.500000\n",
      "103       7.500000\n",
      "104       7.500000\n",
      "105       7.500000\n",
      "106       7.500000\n",
      "107       7.500000\n",
      "108       7.500000\n",
      "108       7.500000\n",
      "109       7.500000\n",
      "109       7.500000\n",
      "110       7.500000\n",
      "110       7.500000\n",
      "111       7.500000\n",
      "111       7.500000\n",
      "112       7.500000\n",
      "113       7.500000\n",
      "114       7.500000\n",
      "115       7.500000\n",
      "116       7.500000\n",
      "117       7.500000\n",
      "118       7.500000\n",
      "118       7.500000\n",
      "119       7.500000\n",
      "119       7.500000\n",
      "120       7.500000\n",
      "121       7.500000\n",
      "122       7.500000\n",
      "123       7.500000\n",
      "124       7.500000\n",
      "124       7.500000\n",
      "125       7.500000\n",
      "125       7.500000\n",
      "126       7.500000\n",
      "127       7.500000\n",
      "128       7.500000\n",
      "129       7.500000\n",
      "130       7.500000\n",
      "131       7.500000\n",
      "132       7.500000\n",
      "132       7.500000\n",
      "133       7.500000\n",
      "133       7.500000\n",
      "134       7.500000\n",
      "134       7.500000\n",
      "135       7.500000\n",
      "136       7.500000\n",
      "137       7.500000\n",
      "138       7.500000\n",
      "139       7.500000\n",
      "140       8.333333\n",
      "141       7.500000\n",
      "142       7.500000\n",
      "143       7.500000\n",
      "144       7.500000\n",
      "145       7.500000\n",
      "146       7.500000\n",
      "147       7.500000\n",
      "148       7.500000\n",
      "149       7.500000\n",
      "150       7.500000\n",
      "151       7.500000\n",
      "152       7.500000\n",
      "153       7.500000\n",
      "154       7.500000\n",
      "155       7.500000\n",
      "155       7.500000\n",
      "156       7.500000\n",
      "157       7.500000\n",
      "158       7.500000\n",
      "159       7.500000\n",
      "160       7.500000\n",
      "161       7.500000\n",
      "162       7.500000\n",
      "163       7.500000\n",
      "164       7.500000\n",
      "165       7.500000\n",
      "166       7.500000\n",
      "167       7.500000\n",
      "168       7.500000\n",
      "169       7.500000\n",
      "170       7.500000\n",
      "171       7.500000\n",
      "172       7.500000\n",
      "173       7.500000\n",
      "174       7.500000\n",
      "175       7.500000\n",
      "176       7.500000\n",
      "176       7.500000\n",
      "177       7.500000\n",
      "177       7.500000\n",
      "178       7.500000\n",
      "178       7.500000\n",
      "179       7.500000\n",
      "179       7.500000\n",
      "180       5.833333\n",
      "181       5.833333\n",
      "182       7.500000\n",
      "183       7.500000\n",
      "184       7.500000\n",
      "185       7.500000\n",
      "186       7.500000\n",
      "187       7.500000\n",
      "188       7.500000\n",
      "188       7.500000\n",
      "189       7.500000\n",
      "190       7.500000\n",
      "191       7.500000\n",
      "192       7.500000\n",
      "193       7.500000\n",
      "194       7.500000\n",
      "195       7.500000\n",
      "195       7.500000\n",
      "196       7.500000\n",
      "197       7.500000\n",
      "198       7.500000\n",
      "199       7.500000\n",
      "200       7.500000\n",
      "201       7.500000\n",
      "202       7.500000\n",
      "203       7.500000\n",
      "204       7.500000\n",
      "205       7.500000\n",
      "206       7.500000\n",
      "207       7.500000\n",
      "208       7.500000\n",
      "209       7.500000\n",
      "210       7.500000\n",
      "211       7.500000\n",
      "212       7.500000\n",
      "213       7.500000\n",
      "214       7.500000\n",
      "215       7.500000\n",
      "216       7.500000\n",
      "217       7.500000\n",
      "217       7.500000\n",
      "218       7.500000\n",
      "219       7.500000\n",
      "220       7.500000\n",
      "221       7.500000\n",
      "222       7.500000\n",
      "223       7.500000\n",
      "224       7.500000\n",
      "225       7.500000\n",
      "226       7.500000\n",
      "227       7.500000\n",
      "228       7.500000\n",
      "229       7.500000\n",
      "230       7.500000\n",
      "231       7.500000\n",
      "232       7.500000\n",
      "233       5.833333\n",
      "234       7.500000\n",
      "234       7.500000\n",
      "235       7.500000\n",
      "236       5.833333\n",
      "237       7.500000\n",
      "238       7.500000\n",
      "239       7.500000\n",
      "240       7.500000\n",
      "241       7.500000\n",
      "242       7.500000\n",
      "243       7.500000\n",
      "244       7.500000\n",
      "245       7.500000\n",
      "245       7.500000\n",
      "246       7.500000\n",
      "247       7.500000\n",
      "248       7.500000\n",
      "249       7.500000\n",
      "250       7.500000\n",
      "251       7.500000\n",
      "252       7.500000\n",
      "253       7.500000\n",
      "254       7.500000\n",
      "255       7.500000\n",
      "256       7.500000\n",
      "257       7.500000\n",
      "257       7.500000\n",
      "258       7.500000\n",
      "259       7.500000\n",
      "260       7.500000\n",
      "261       7.500000\n",
      "262       7.500000\n",
      "263       7.500000\n",
      "264       7.500000\n",
      "265       7.500000\n",
      "266       7.500000\n",
      "267       7.500000\n",
      "268       7.500000\n",
      "268       7.500000\n",
      "269       7.500000\n",
      "270       7.500000\n",
      "271       7.500000\n",
      "272       7.500000\n",
      "273       7.500000\n",
      "274       7.500000\n",
      "275       8.333333\n",
      "276       7.500000\n",
      "277       7.500000\n",
      "278       7.500000\n",
      "279       7.500000\n",
      "280       7.500000\n",
      "281       7.500000\n",
      "282       7.500000\n",
      "283       7.500000\n",
      "284       7.500000\n",
      "285       7.500000\n",
      "286       7.500000\n",
      "287       7.500000\n",
      "288       7.500000\n",
      "289       7.500000\n",
      "290       7.500000\n",
      "291       7.500000\n",
      "292       7.500000\n",
      "292       7.500000\n",
      "293       7.500000\n",
      "294       7.500000\n",
      "295       7.500000\n",
      "296       7.500000\n",
      "297       7.500000\n",
      "298       7.500000\n",
      "299       7.500000\n",
      "300       7.500000\n",
      "301       7.500000\n",
      "302       7.500000\n",
      "303       7.500000\n",
      "304       7.500000\n",
      "305       7.500000\n",
      "306       7.500000\n",
      "307       7.500000\n",
      "308       7.500000\n",
      "308       7.500000\n",
      "308       7.500000\n",
      "309       7.500000\n",
      "310       7.500000\n",
      "310       7.500000\n",
      "311       7.500000\n",
      "312       7.500000\n",
      "313       7.500000\n",
      "314       7.500000\n",
      "315       7.500000\n",
      "316       7.500000\n",
      "317       7.500000\n",
      "318       7.500000\n",
      "319       7.500000\n",
      "320       7.500000\n",
      "321       7.500000\n",
      "322       7.500000\n",
      "323       7.500000\n",
      "324       7.500000\n",
      "325       7.500000\n",
      "326       7.500000\n",
      "327       7.500000\n",
      "328       7.500000\n",
      "329       7.500000\n",
      "330       7.500000\n",
      "331       7.500000\n",
      "331       7.500000\n",
      "332       7.500000\n",
      "332       7.500000\n",
      "333       7.500000\n",
      "333       7.500000\n",
      "334       7.500000\n",
      "334       7.500000\n",
      "335       7.500000\n",
      "336       7.500000\n",
      "336       7.500000\n",
      "337       7.500000\n",
      "338       7.500000\n",
      "339       7.500000\n",
      "339       7.500000\n",
      "340       7.500000\n",
      "340       7.500000\n",
      "341       7.500000\n",
      "341       7.500000\n",
      "342       7.500000\n",
      "343       7.500000\n",
      "343       7.500000\n",
      "344       7.500000\n",
      "345       7.500000\n",
      "346       7.500000\n",
      "347       7.500000\n",
      "348       7.500000\n",
      "349       7.500000\n",
      "350       7.500000\n",
      "351       7.500000\n",
      "351       7.500000\n",
      "351       7.500000\n",
      "352       7.500000\n",
      "353       7.500000\n",
      "353       7.500000\n",
      "354       7.500000\n",
      "355       7.500000\n",
      "356       7.500000\n",
      "357       7.500000\n",
      "358       7.500000\n",
      "359       7.500000\n",
      "360       7.500000\n",
      "361       7.500000\n",
      "362       7.500000\n",
      "363       7.500000\n",
      "363       7.500000\n",
      "364       7.500000\n",
      "364       7.500000\n",
      "365       7.500000\n",
      "366       7.500000\n",
      "367       7.500000\n",
      "368       7.500000\n",
      "369       7.500000\n",
      "370       7.500000\n",
      "371       7.500000\n",
      "371       7.500000\n",
      "372       7.500000\n",
      "373       7.500000\n",
      "374       7.500000\n",
      "374       7.500000\n",
      "375       7.500000\n",
      "376       7.500000\n",
      "377       7.500000\n",
      "378       7.500000\n",
      "378       7.500000\n",
      "379       7.500000\n",
      "380       5.833333\n",
      "381       7.500000\n",
      "382       5.833333\n",
      "383       7.500000\n",
      "384       7.500000\n",
      "385       7.500000\n",
      "386       7.500000\n",
      "387       7.500000\n",
      "388       7.500000\n",
      "388       7.500000\n",
      "389       7.500000\n",
      "390       7.500000\n",
      "391       7.500000\n",
      "392       7.500000\n",
      "393       7.500000\n",
      "394       7.500000\n",
      "395       7.500000\n",
      "396       7.500000\n",
      "397       7.500000\n",
      "397       7.500000\n",
      "398       7.500000\n",
      "399       7.500000\n",
      "400       7.500000\n",
      "401       7.500000\n",
      "401       7.500000\n",
      "402       7.500000\n",
      "403       7.500000\n",
      "404       7.500000\n",
      "405       7.500000\n",
      "406       7.500000\n",
      "407       7.500000\n",
      "407       7.500000\n",
      "408       7.500000\n",
      "409       7.500000\n",
      "410       7.500000\n",
      "411       7.500000\n",
      "412       7.500000\n",
      "413       7.500000\n",
      "414       7.500000\n",
      "415       7.500000\n",
      "416       7.500000\n",
      "416       7.500000\n",
      "417       7.500000\n",
      "417       7.500000\n",
      "417       7.500000\n",
      "418       7.500000\n",
      "419       7.500000\n",
      "420       7.500000\n",
      "420       7.500000\n",
      "421       7.500000\n",
      "422       5.833333\n",
      "423       7.500000\n",
      "424       7.500000\n",
      "425       7.500000\n",
      "426       7.500000\n",
      "427       5.833333\n",
      "428       5.833333\n",
      "429       7.500000\n",
      "430       7.500000\n",
      "431       7.500000\n",
      "431       7.500000\n",
      "432       7.500000\n",
      "433       7.500000\n",
      "434       7.500000\n",
      "435       7.500000\n",
      "436       7.500000\n",
      "437       7.500000\n",
      "438       7.500000\n",
      "439       7.500000\n",
      "440       7.500000\n",
      "441       7.500000\n",
      "442       7.500000\n",
      "443       7.500000\n",
      "444       7.500000\n",
      "445       7.500000\n",
      "446       7.500000\n",
      "447       7.500000\n",
      "448       7.500000\n",
      "449       7.500000\n",
      "449       7.500000\n",
      "450       7.500000\n",
      "451       7.500000\n",
      "451       7.500000\n",
      "452       7.500000\n",
      "453       7.500000\n",
      "454       7.500000\n",
      "455       7.500000\n",
      "456       7.500000\n",
      "457       7.500000\n",
      "458       7.500000\n",
      "459       7.500000\n",
      "460       7.500000\n",
      "461       7.500000\n",
      "462       7.500000\n",
      "463       7.500000\n",
      "464       7.500000\n",
      "464       7.500000\n",
      "465       7.500000\n",
      "466       7.500000\n",
      "467       7.500000\n",
      "468       7.500000\n",
      "468       7.500000\n",
      "469       7.500000\n",
      "470       7.500000\n",
      "471       7.500000\n",
      "472       7.500000\n",
      "473       7.500000\n",
      "474       7.500000\n",
      "475       7.500000\n",
      "476       7.500000\n",
      "477       7.500000\n",
      "478       7.500000\n",
      "479       7.500000\n",
      "480       7.500000\n",
      "481       7.500000\n",
      "482       7.500000\n",
      "483       7.500000\n",
      "483       7.500000\n",
      "484       7.500000\n",
      "485       7.500000\n",
      "486       7.500000\n",
      "487       7.500000\n",
      "488       7.500000\n",
      "489       7.500000\n",
      "489       7.500000\n",
      "490       7.500000\n",
      "490       7.500000\n",
      "491       7.500000\n",
      "492       7.500000\n",
      "492       7.500000\n",
      "492       7.500000\n",
      "492       7.500000\n",
      "493       7.500000\n",
      "493       7.500000\n",
      "494       7.500000\n",
      "494       7.500000\n",
      "495       7.500000\n",
      "495       7.500000\n",
      "496       7.500000\n",
      "497       7.500000\n",
      "498       7.500000\n",
      "499       7.500000\n",
      "499       7.500000\n",
      "499       7.500000\n",
      "500       7.500000\n",
      "500       7.500000\n",
      "501       7.500000\n",
      "501       7.500000\n",
      "502       7.500000\n",
      "502       7.500000\n",
      "502       7.500000\n",
      "503       7.500000\n",
      "503       7.500000\n",
      "504       7.500000\n",
      "505       7.500000\n",
      "506       7.500000\n",
      "506       7.500000\n",
      "506       7.500000\n",
      "506       7.500000\n",
      "506       7.500000\n",
      "507       7.500000\n",
      "508       7.500000\n",
      "509       7.500000\n",
      "510       7.500000\n",
      "511       7.500000\n",
      "511       7.500000\n",
      "511       7.500000\n",
      "512       7.500000\n",
      "513       7.500000\n",
      "514       7.500000\n",
      "515       7.500000\n",
      "515       7.500000\n",
      "516       7.500000\n",
      "517       7.500000\n",
      "518       7.500000\n",
      "519       7.500000\n",
      "520       7.500000\n",
      "521       7.500000\n",
      "521       7.500000\n",
      "522       7.500000\n",
      "523       7.500000\n",
      "524       7.500000\n",
      "525       7.500000\n",
      "526       7.500000\n",
      "526       7.500000\n",
      "527       7.500000\n",
      "528       7.500000\n",
      "529       7.500000\n",
      "529       7.500000\n",
      "530       7.500000\n",
      "531       7.500000\n",
      "532       7.500000\n",
      "533       7.500000\n",
      "534       7.500000\n",
      "534       7.500000\n",
      "534       7.500000\n",
      "535       7.500000\n",
      "535       7.500000\n",
      "536       7.500000\n",
      "536       7.500000\n",
      "537       7.500000\n",
      "538       7.500000\n",
      "539       7.500000\n",
      "540       7.500000\n",
      "540       7.500000\n",
      "541       7.500000\n",
      "542       7.500000\n",
      "542       7.500000\n",
      "542       7.500000\n",
      "543       7.500000\n",
      "544       7.500000\n",
      "544       7.500000\n",
      "545       7.500000\n",
      "546       7.500000\n",
      "547       7.500000\n",
      "548       7.500000\n",
      "549       7.500000\n",
      "550       7.500000\n",
      "550       7.500000\n",
      "551       7.500000\n",
      "551       7.500000\n",
      "552       7.500000\n",
      "552       7.500000\n",
      "552       7.500000\n",
      "553       7.500000\n",
      "553       7.500000\n",
      "553       7.500000\n",
      "554       7.500000\n",
      "555       7.500000\n",
      "556       7.500000\n",
      "557       7.500000\n",
      "558       7.500000\n",
      "559       7.500000\n",
      "560       7.500000\n",
      "561       7.500000\n",
      "562       7.500000\n",
      "563       7.500000\n",
      "564       7.500000\n",
      "564       7.500000\n",
      "565       7.500000\n",
      "566       7.500000\n",
      "567       7.500000\n",
      "568       7.500000\n",
      "569       7.500000\n",
      "570       7.500000\n",
      "571       7.500000\n",
      "572       7.500000\n",
      "573       7.500000\n",
      "574       7.500000\n",
      "575       7.500000\n",
      "576       7.500000\n",
      "577       7.500000\n",
      "578       7.500000\n",
      "579       7.500000\n",
      "580       7.500000\n",
      "581       7.500000\n",
      "582       7.500000\n",
      "583       7.500000\n",
      "584       7.500000\n",
      "585       7.500000\n",
      "586       7.500000\n",
      "587       7.500000\n",
      "588       7.500000\n",
      "589       7.500000\n",
      "590       7.500000\n",
      "591       7.500000\n",
      "592       7.500000\n",
      "593       7.500000\n",
      "594       7.500000\n",
      "595       7.500000\n",
      "596       7.500000\n",
      "597       7.500000\n",
      "598       7.500000\n",
      "599       7.500000\n",
      "600       7.500000\n",
      "601       7.500000\n",
      "602       7.500000\n",
      "603       7.500000\n",
      "604       7.500000\n",
      "605       7.500000\n",
      "605       7.500000\n",
      "606       7.500000\n",
      "607       7.500000\n",
      "608       7.500000\n",
      "609       7.500000\n",
      "610       7.500000\n",
      "611       7.500000\n",
      "612       7.500000\n",
      "613       7.500000\n",
      "614       7.500000\n",
      "614       7.500000\n",
      "615       7.500000\n",
      "616       7.500000\n",
      "617       7.500000\n",
      "618       7.500000\n",
      "619       7.500000\n",
      "620       7.500000\n",
      "621       7.500000\n",
      "622       7.500000\n",
      "623       7.500000\n",
      "624       7.500000\n",
      "624       7.500000\n",
      "625       7.500000\n",
      "626       7.500000\n",
      "626       7.500000\n",
      "627       7.500000\n",
      "628       7.500000\n",
      "629       7.500000\n",
      "630       7.500000\n",
      "631       7.500000\n",
      "631       7.500000\n",
      "632       7.500000\n",
      "633       7.500000\n",
      "634       7.500000\n",
      "635       7.500000\n",
      "636       7.500000\n",
      "637       7.500000\n",
      "638       7.500000\n",
      "639       7.500000\n",
      "640       7.500000\n",
      "641       7.500000\n",
      "642       7.500000\n",
      "643       7.500000\n",
      "644       7.500000\n",
      "645       7.500000\n",
      "646       7.500000\n",
      "647       7.500000\n",
      "648       7.500000\n",
      "649       7.500000\n",
      "650       7.500000\n",
      "651       7.500000\n",
      "652       7.500000\n",
      "653       7.500000\n",
      "654       7.500000\n",
      "654       7.500000\n",
      "655       7.500000\n",
      "655       7.500000\n",
      "656       7.500000\n",
      "657       7.500000\n",
      "658       7.500000\n",
      "659       7.500000\n",
      "660       7.500000\n",
      "661       7.500000\n",
      "662       7.500000\n",
      "663       7.500000\n",
      "663       7.500000\n",
      "664       7.500000\n",
      "665       7.500000\n",
      "666       7.500000\n",
      "667       6.666667\n",
      "668       7.500000\n",
      "669       7.500000\n",
      "670       7.500000\n",
      "671       7.500000\n",
      "672       7.500000\n",
      "673       7.500000\n",
      "674       7.500000\n",
      "675       7.500000\n",
      "676       7.500000\n",
      "677       7.500000\n",
      "678       7.500000\n",
      "679       7.500000\n",
      "680       7.500000\n",
      "681       7.500000\n",
      "682       7.500000\n",
      "683       7.500000\n",
      "684       7.500000\n",
      "685       7.500000\n",
      "686       7.500000\n",
      "687       7.500000\n",
      "688       7.500000\n",
      "689       7.500000\n",
      "690       7.500000\n",
      "690       7.500000\n",
      "691       7.500000\n",
      "691       7.500000\n",
      "692       7.500000\n",
      "693       7.500000\n",
      "694       7.500000\n",
      "695       7.500000\n",
      "696       7.500000\n",
      "697       7.500000\n",
      "698       7.500000\n",
      "699       7.500000\n",
      "700       7.500000\n",
      "701       7.500000\n",
      "702       7.500000\n",
      "703       7.500000\n",
      "704       7.500000\n",
      "705       7.500000\n",
      "706       7.500000\n",
      "707       7.500000\n",
      "708       7.500000\n",
      "709       7.500000\n",
      "710       7.500000\n",
      "711       7.500000\n",
      "712       7.500000\n",
      "713       7.500000\n",
      "713       7.500000\n",
      "714       7.500000\n",
      "715       7.500000\n",
      "716       7.500000\n",
      "717       7.500000\n",
      "718       7.500000\n",
      "719       7.500000\n",
      "720       7.500000\n",
      "721       7.500000\n",
      "722       7.500000\n",
      "723       7.500000\n",
      "724       7.500000\n",
      "725       7.500000\n",
      "726       7.500000\n",
      "727       7.500000\n",
      "728       7.500000\n",
      "729       7.500000\n",
      "730       7.500000\n",
      "731       7.500000\n",
      "732       7.500000\n",
      "733       7.500000\n",
      "733       7.500000\n",
      "734       7.500000\n",
      "735       7.500000\n",
      "736       7.500000\n",
      "737       7.500000\n",
      "738       7.500000\n",
      "739       7.500000\n",
      "740       7.500000\n",
      "741       7.500000\n",
      "742       7.500000\n",
      "743       7.500000\n",
      "744       7.500000\n",
      "745       7.500000\n",
      "746       7.500000\n",
      "747       7.500000\n",
      "748       7.500000\n",
      "749       8.333333\n",
      "750       7.500000\n",
      "751       7.500000\n",
      "752       7.500000\n",
      "753       7.500000\n",
      "754       7.500000\n",
      "755       7.500000\n",
      "756       7.500000\n",
      "757       7.500000\n",
      "758       7.500000\n",
      "759       7.500000\n",
      "760       7.500000\n",
      "760       7.500000\n",
      "761       7.500000\n",
      "762       7.500000\n",
      "763       7.500000\n",
      "763       7.500000\n",
      "764       7.500000\n",
      "765       7.500000\n",
      "766       7.500000\n",
      "767       7.500000\n",
      "768       7.500000\n",
      "769       7.500000\n",
      "770       7.500000\n",
      "771       7.500000\n",
      "772       7.500000\n",
      "772       7.500000\n",
      "773       7.500000\n",
      "774       7.500000\n",
      "775       7.500000\n",
      "776       7.500000\n",
      "777       7.500000\n",
      "778       7.500000\n",
      "779       7.500000\n",
      "780       7.500000\n",
      "781       7.500000\n",
      "782       7.500000\n",
      "783       7.500000\n",
      "784       7.500000\n",
      "785       7.500000\n",
      "786       7.500000\n",
      "787       7.500000\n",
      "788       7.500000\n",
      "789       7.500000\n",
      "790       7.500000\n",
      "791       7.500000\n",
      "792       7.500000\n",
      "793       7.500000\n",
      "794       7.500000\n",
      "795       7.500000\n",
      "796       7.500000\n",
      "797       7.500000\n",
      "798       7.500000\n",
      "799       7.500000\n",
      "800       7.500000\n",
      "801       7.500000\n",
      "802       7.500000\n",
      "803       7.500000\n",
      "804       7.500000\n",
      "805       7.500000\n",
      "806       7.500000\n",
      "807       7.500000\n",
      "808       7.500000\n",
      "809       7.500000\n",
      "810       7.500000\n",
      "811       7.500000\n",
      "812       7.500000\n",
      "813       7.500000\n",
      "814       7.500000\n",
      "815       7.500000\n",
      "816       7.500000\n",
      "817       7.500000\n",
      "818       7.500000\n",
      "819       7.500000\n",
      "820       7.500000\n",
      "821       7.500000\n",
      "822       7.500000\n",
      "823       7.500000\n",
      "824       7.500000\n",
      "825       7.500000\n",
      "826       7.500000\n",
      "826       7.500000\n",
      "827       7.500000\n",
      "828       7.500000\n",
      "829       7.500000\n",
      "830       7.500000\n",
      "831       7.500000\n",
      "832       7.500000\n",
      "833       7.500000\n",
      "833       7.500000\n",
      "834       7.500000\n",
      "835       7.500000\n",
      "836       7.500000\n",
      "837       7.500000\n",
      "838       7.500000\n",
      "839       7.500000\n",
      "840       7.500000\n",
      "841       7.500000\n",
      "842       7.500000\n",
      "842       7.500000\n",
      "843       7.500000\n",
      "844       7.500000\n",
      "845       7.500000\n",
      "846       7.500000\n",
      "847       7.500000\n",
      "848       7.500000\n",
      "849       7.500000\n",
      "850       7.500000\n",
      "851       7.500000\n",
      "852       7.500000\n",
      "853       7.500000\n",
      "854       7.500000\n",
      "855       7.500000\n",
      "855       7.500000\n",
      "856       7.500000\n",
      "856       7.500000\n",
      "856       7.500000\n",
      "857       7.500000\n"
     ]
    }
   ],
   "source": [
    "# Calculate Fitness Score Table\n",
    "import pandas as pd\n",
    "\n",
    "# Load the datasets\n",
    "subject_info = pd.read_csv('subject-info.csv')\n",
    "test_measure = pd.read_csv('Test_measure.csv')\n",
    "\n",
    "# Step 1: Process and group test_measure data\n",
    "# Select only the necessary columns\n",
    "columns_to_process = ['ID', 'VO2', 'VCO2', 'HR', 'RR', 'VE']\n",
    "filtered_data = test_measure[columns_to_process]\n",
    "\n",
    "# Ensure the selected columns are numeric (handling SettingWithCopyWarning)\n",
    "for column in ['VO2', 'VCO2', 'HR', 'RR', 'VE']:\n",
    "    filtered_data.loc[:, column] = pd.to_numeric(filtered_data[column], errors='coerce')\n",
    "\n",
    "# Group by ID and calculate mean for each parameter\n",
    "grouped_test_measure = filtered_data.groupby('ID', as_index=False).mean()\n",
    "\n",
    "# Step 2: Calculate BMI in subject_info\n",
    "subject_info['BMI'] = subject_info['Weight'] / (subject_info['Height'] ** 2)\n",
    "\n",
    "# Step 3: Merge grouped test_measure with subject_info on 'ID'\n",
    "merged_data = pd.merge(grouped_test_measure, subject_info, on='ID')\n",
    "\n",
    "# Step 4: Define a function to calculate Fitness Score\n",
    "def calculate_fitness(row):\n",
    "    # Simple scoring conditions\n",
    "    bmi_score = 10 if row['BMI'] < 25 else 5\n",
    "    vo2_score = 10 if row['VO2'] > 2.0 else 5\n",
    "    vco2_score = 10 if row['VCO2'] > 1.5 else 5\n",
    "    hr_score = 10 if 60 <= row['HR'] <= 80 else 5\n",
    "    rr_score = 10 if row['RR'] < 20 else 5\n",
    "    ve_score = 10 if row['VE'] < 30 else 5\n",
    "    \n",
    "    # Calculate overall Fitness Score\n",
    "    fitness_score = (bmi_score + vo2_score + vco2_score + hr_score + rr_score + ve_score) / 6\n",
    "    return fitness_score\n",
    "\n",
    "# Apply the Fitness Score calculation\n",
    "merged_data['Fitness_Score'] = merged_data.apply(calculate_fitness, axis=1)\n",
    "\n",
    "# Step 5: Display the output\n",
    "print(merged_data[['ID', 'Fitness_Score']].to_string(index=False))"
   ]
  }
 ],
 "metadata": {
  "kernelspec": {
   "display_name": "Python [conda env:base] *",
   "language": "python",
   "name": "conda-base-py"
  },
  "language_info": {
   "codemirror_mode": {
    "name": "ipython",
    "version": 3
   },
   "file_extension": ".py",
   "mimetype": "text/x-python",
   "name": "python",
   "nbconvert_exporter": "python",
   "pygments_lexer": "ipython3",
   "version": "3.12.7"
  }
 },
 "nbformat": 4,
 "nbformat_minor": 5
}
