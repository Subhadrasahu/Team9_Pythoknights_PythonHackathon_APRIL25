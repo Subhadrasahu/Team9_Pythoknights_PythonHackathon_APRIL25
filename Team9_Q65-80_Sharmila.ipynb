{
 "cells": [
  {
   "cell_type": "code",
   "execution_count": null,
   "id": "64abb774-817e-46a1-85b6-911daf08a2b5",
   "metadata": {},
   "outputs": [],
   "source": [
    "import pandas as pd\n",
    "import matplotlib.pyplot as plt\n",
    "\n",
    "df1=pd.read_csv(\"subject-info.csv\")\n",
    "df2=pd.read_csv(\"test_measure.csv\")\n",
    "sub_Info=df1.copy()\n",
    "measure=df2.copy()\n",
    "print(sub_Info)"
   ]
  }
 ],
 "metadata": {
  "kernelspec": {
   "display_name": "Python [conda env:base] *",
   "language": "python",
   "name": "conda-base-py"
  },
  "language_info": {
   "codemirror_mode": {
    "name": "ipython",
    "version": 3
   },
   "file_extension": ".py",
   "mimetype": "text/x-python",
   "name": "python",
   "nbconvert_exporter": "python",
   "pygments_lexer": "ipython3",
   "version": "3.12.7"
  }
 },
 "nbformat": 4,
 "nbformat_minor": 5
}
