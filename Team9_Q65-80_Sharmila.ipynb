{
 "cells": [
  {
   "cell_type": "code",
   "execution_count": 7,
   "id": "64abb774-817e-46a1-85b6-911daf08a2b5",
   "metadata": {},
   "outputs": [],
   "source": [
    "import pandas as pd\n",
    "import matplotlib.pyplot as plt\n",
    "\n",
    "df1=pd.read_csv(\"subject-info.csv\")\n",
    "df2=pd.read_csv(\"test_measure.csv\")\n",
    "sub_info=df1.copy()\n",
    "measure=df2.copy()\n",
    "#print(sub_Info)"
   ]
  },
  {
   "cell_type": "code",
   "execution_count": 23,
   "id": "6c99b16d-b39c-4269-93f0-4ca741b5f6f7",
   "metadata": {},
   "outputs": [
    {
     "name": "stdout",
     "output_type": "stream",
     "text": [
      "Percentage of male athletes exceeding max female speed: 6.13%\n"
     ]
    }
   ],
   "source": [
    "#65.  Calculate the percentage of male athletes who exceeded, the maximum treadmill speed of female athletes \n",
    "# Merge the two tables on ID\n",
    "merged_data = pd.merge(sub_info, measure, on='ID')\n",
    "\n",
    "# Step 1: Get the maximum treadmill speed of female athletes\n",
    "max_female_speed = merged_data[merged_data['Sex'] == 1]['Speed'].max()\n",
    "#print(max_female_speed)\n",
    "\n",
    "# Step 2: Filter male athletes who exceeded this speed\n",
    "male_exceeding = merged_data[(merged_data['Sex'] == 0) & (merged_data['Speed'] > max_female_speed)]\n",
    "#print(male_exceeding)\n",
    "\n",
    "# Step 3: Calculate the percentage\n",
    "total_male = merged_data[merged_data['Sex'] == 1].shape[0]\n",
    "percentage = (male_exceeding.shape[0] / total_male) * 100\n",
    "\n",
    "# Output the result\n",
    "print(f\"Percentage of male athletes exceeding max female speed: {percentage:.2f}%\")"
   ]
  },
  {
   "cell_type": "code",
   "execution_count": null,
   "id": "b1e59c09-df92-41a6-b5ac-7ef8cd0e703d",
   "metadata": {},
   "outputs": [],
   "source": []
  }
 ],
 "metadata": {
  "kernelspec": {
   "display_name": "Python [conda env:base] *",
   "language": "python",
   "name": "conda-base-py"
  },
  "language_info": {
   "codemirror_mode": {
    "name": "ipython",
    "version": 3
   },
   "file_extension": ".py",
   "mimetype": "text/x-python",
   "name": "python",
   "nbconvert_exporter": "python",
   "pygments_lexer": "ipython3",
   "version": "3.12.7"
  }
 },
 "nbformat": 4,
 "nbformat_minor": 5
}
