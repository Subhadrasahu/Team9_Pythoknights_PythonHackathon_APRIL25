{
 "cells": [
  {
   "cell_type": "code",
   "execution_count": 1,
   "id": "c9c37350-b73b-4db8-9644-12ce976b34d1",
   "metadata": {},
   "outputs": [],
   "source": [
    "import pandas as pd\n",
    "import matplotlib.pyplot as plt\n",
    "\n",
    "df1=pd.read_csv(\"subject-info.csv\")\n",
    "df2=pd.read_csv(\"test_measure.csv\")\n"
   ]
  },
  {
   "cell_type": "code",
   "execution_count": 5,
   "id": "0800ff11-5e3a-4054-99a4-50611b51343e",
   "metadata": {},
   "outputs": [],
   "source": [
    "sub2=df1.copy()\n",
    "test2=df2.copy()\n"
   ]
  },
  {
   "cell_type": "code",
   "execution_count": 9,
   "id": "dc39dbc2-9636-4071-94e3-634fd9314799",
   "metadata": {},
   "outputs": [
    {
     "name": "stdout",
     "output_type": "stream",
     "text": [
      "      Age  Weight  Height  Humidity  Temperature  Sex   ID ID_test\n",
      "0    10.8    48.8   163.0      39.0         20.7    1  543   543_1\n",
      "1    11.8    41.0   150.0      41.0         22.3    1   11    11_1\n",
      "2    12.2    46.0   160.0      37.0         21.5    0  829   829_1\n",
      "3    13.2    71.0   190.0      49.0         23.8    1  284   284_1\n",
      "4    13.7    53.8   169.7      40.0         25.3    0  341   341_1\n",
      "..    ...     ...     ...       ...          ...  ...  ...     ...\n",
      "987  59.1    64.7   172.0      38.0         24.4    0  856   856_2\n",
      "988  59.7    65.2   172.0      51.0         16.8    0  856   856_3\n",
      "989  61.3   102.0   185.0      56.0         20.5    0  390   390_1\n",
      "990  61.6    74.0   169.0      46.0         23.9    0  596   596_1\n",
      "991  63.0    83.5   171.5      48.0         22.2    0  296   296_1\n",
      "\n",
      "[992 rows x 8 columns]\n"
     ]
    }
   ],
   "source": [
    "print(sub2)"
   ]
  },
  {
   "cell_type": "code",
   "execution_count": 11,
   "id": "40567ce3-6ef5-495a-a513-1ea41256123d",
   "metadata": {},
   "outputs": [
    {
     "name": "stdout",
     "output_type": "stream",
     "text": [
      "        time  Speed     HR     VO2    VCO2    RR    VE ID_test   ID\n",
      "0          0    5.0   63.0   478.0   360.0  27.0  13.3     2_1    2\n",
      "1          2    5.0   75.0   401.0   295.0  23.0  10.3     2_1    2\n",
      "2          4    5.0   82.0   449.0   319.0  29.0  12.2     2_1    2\n",
      "3          7    5.0   87.0   461.0   340.0  28.0  12.8     2_1    2\n",
      "4          9    5.0   92.0   574.0   417.0  28.0  14.6     2_1    2\n",
      "...      ...    ...    ...     ...     ...   ...   ...     ...  ...\n",
      "575082   926    5.0  148.0  1350.0  1699.0  35.0  65.7   857_1  857\n",
      "575083   927    5.0  147.0  1275.0  1605.0  32.0  60.1   857_1  857\n",
      "575084   929    5.0  147.0  1259.0  1566.0  29.0  57.0   857_1  857\n",
      "575085   931    5.0  147.0  1278.0  1587.0  31.0  58.5   857_1  857\n",
      "575086   933    5.0  147.0  1299.0  1600.0  31.0  58.7   857_1  857\n",
      "\n",
      "[575087 rows x 9 columns]\n"
     ]
    }
   ],
   "source": [
    "print(test2)"
   ]
  },
  {
   "cell_type": "code",
   "execution_count": 25,
   "id": "a2d80ced-0c06-4879-ba1c-a33deb1a6e23",
   "metadata": {},
   "outputs": [
    {
     "name": "stdout",
     "output_type": "stream",
     "text": [
      "Age             16.9\n",
      "Weight          81.0\n",
      "Height         203.0\n",
      "Humidity        52.0\n",
      "Temperature     22.5\n",
      "Sex                1\n",
      "ID                94\n",
      "ID_test         94_1\n",
      "Name: 109, dtype: object\n"
     ]
    }
   ],
   "source": [
    "#18.Who is the tallest participant in the dataset?\n",
    "# What is  his/her Vo2 kg/ml?\n",
    "tallest_participant = sub2.loc[sub2['Height'].idxmax()]\n",
    "print(tallest_participant)\n",
    "tallest_Age =tallest_participant['Age']\n",
    "tallest_Weight= tallest_participant['Weight']\n",
    "tallest_Height =tallest_participant['Height']\n",
    "tallest_ID_test = tallest_participant['ID_test']"
   ]
  },
  {
   "cell_type": "code",
   "execution_count": 19,
   "id": "5a82e405-0193-4310-8157-723ac14d7f71",
   "metadata": {},
   "outputs": [
    {
     "name": "stdout",
     "output_type": "stream",
     "text": [
      "         Age  Weight  Height  Humidity  Temperature  Sex  ID_x ID_test  time  \\\n",
      "0       10.8    48.8   163.0      39.0         20.7    1   543   543_1     0   \n",
      "1       10.8    48.8   163.0      39.0         20.7    1   543   543_1     3   \n",
      "2       10.8    48.8   163.0      39.0         20.7    1   543   543_1    10   \n",
      "3       10.8    48.8   163.0      39.0         20.7    1   543   543_1    13   \n",
      "4       10.8    48.8   163.0      39.0         20.7    1   543   543_1    17   \n",
      "...      ...     ...     ...       ...          ...  ...   ...     ...   ...   \n",
      "575082  63.0    83.5   171.5      48.0         22.2    0   296   296_1   747   \n",
      "575083  63.0    83.5   171.5      48.0         22.2    0   296   296_1   749   \n",
      "575084  63.0    83.5   171.5      48.0         22.2    0   296   296_1   752   \n",
      "575085  63.0    83.5   171.5      48.0         22.2    0   296   296_1   754   \n",
      "575086  63.0    83.5   171.5      48.0         22.2    0   296   296_1   757   \n",
      "\n",
      "        Speed     HR     VO2    VCO2    RR    VE  ID_y  \n",
      "0         0.0    NaN   585.0   566.0  13.0  21.5   543  \n",
      "1         0.0    NaN   223.0   215.0  19.0   9.4   543  \n",
      "2         0.0   58.0   309.0   302.0   9.0  10.5   543  \n",
      "3         0.0    NaN   280.0   272.0  12.0  10.2   543  \n",
      "4         0.0   96.0   294.0   283.0  13.0  10.6   543  \n",
      "...       ...    ...     ...     ...   ...   ...   ...  \n",
      "575082    5.0  109.0  1346.0  1569.0  24.0  55.3   296  \n",
      "575083    5.0  109.0  1346.0  1561.0  24.0  54.7   296  \n",
      "575084    5.0  109.0  1381.0  1578.0  24.0  54.5   296  \n",
      "575085    5.0  110.0  1356.0  1533.0  24.0  52.9   296  \n",
      "575086    5.0  109.0  1364.0  1538.0  24.0  53.1   296  \n",
      "\n",
      "[575087 rows x 16 columns]\n"
     ]
    }
   ],
   "source": [
    "merged_data =pd.merge(sub2,test2,on ='ID_test',how='left')\n",
    "print(merged_data)"
   ]
  },
  {
   "cell_type": "code",
   "execution_count": 35,
   "id": "ca89f313-8f6d-4420-af9d-8489f2550bc9",
   "metadata": {},
   "outputs": [
    {
     "name": "stdout",
     "output_type": "stream",
     "text": [
      "Tallest participants Height in cm:203.0 cm\n",
      "Tallest participant's VO2 ml/min: 700.0\n",
      "Tallest participant's VO2 ml/kg/min: 8.641975308641975\n"
     ]
    }
   ],
   "source": [
    "#Find the VO2 value for the tallest participant\n",
    "tallest_VO2 =merged_data.loc[merged_data['ID_test']==tallest_ID_test,'VO2'].values[0]\n",
    "print(f\"Tallest participants Height in cm:{tallest_Height} cm\")\n",
    "print(f\"Tallest participant's VO2 ml/min: {tallest_VO2}\")\n",
    "  \t\n",
    "tallest_VO2_ml_kg_min = tallest_VO2/tallest_Weight\n",
    "print(f\"Tallest participant's VO2 ml/kg/min: {tallest_VO2_ml_kg_min}\")"
   ]
  },
  {
   "cell_type": "code",
   "execution_count": null,
   "id": "8ca102d4-7202-40e4-adf1-06edec86380c",
   "metadata": {},
   "outputs": [],
   "source": []
  }
 ],
 "metadata": {
  "kernelspec": {
   "display_name": "Python 3 (ipykernel)",
   "language": "python",
   "name": "python3"
  },
  "language_info": {
   "codemirror_mode": {
    "name": "ipython",
    "version": 3
   },
   "file_extension": ".py",
   "mimetype": "text/x-python",
   "name": "python",
   "nbconvert_exporter": "python",
   "pygments_lexer": "ipython3",
   "version": "3.12.7"
  }
 },
 "nbformat": 4,
 "nbformat_minor": 5
}
